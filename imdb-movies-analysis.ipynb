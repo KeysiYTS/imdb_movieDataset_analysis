{
 "cells": [
  {
   "cell_type": "code",
   "execution_count": 1,
   "id": "5bbdd956",
   "metadata": {
    "_cell_guid": "b1076dfc-b9ad-4769-8c92-a6c4dae69d19",
    "_uuid": "8f2839f25d086af736a60e9eeb907d3b93b6e0e5",
    "execution": {
     "iopub.execute_input": "2024-05-22T00:38:46.395530Z",
     "iopub.status.busy": "2024-05-22T00:38:46.395085Z",
     "iopub.status.idle": "2024-05-22T00:38:46.426133Z",
     "shell.execute_reply": "2024-05-22T00:38:46.424786Z"
    },
    "papermill": {
     "duration": 0.046414,
     "end_time": "2024-05-22T00:38:46.428686",
     "exception": false,
     "start_time": "2024-05-22T00:38:46.382272",
     "status": "completed"
    },
    "tags": []
   },
   "outputs": [
    {
     "name": "stdout",
     "output_type": "stream",
     "text": [
      "/kaggle/input/imdb-movies-data/imdb-movies-dataset.csv\n"
     ]
    }
   ],
   "source": [
    "# This Python 3 environment comes with many helpful analytics libraries installed\n",
    "# It is defined by the kaggle/python Docker image: https://github.com/kaggle/docker-python\n",
    "# For example, here's several helpful packages to load\n",
    "# Input data files are available in the read-only \"../input/\" directory\n",
    "# For example, running this (by clicking run or pressing Shift+Enter) will list all files under the input directory\n",
    "\n",
    "import os\n",
    "file_list=[]\n",
    "for dirname, _, filenames in os.walk('/kaggle/input'):\n",
    "    for filename in filenames:\n",
    "        # I append to a list in case we have multiple files o convert into dfs \n",
    "        file_list.append(os.path.join(dirname, filename))\n",
    "        print(os.path.join(dirname, filename))\n",
    "\n",
    "# You can write up to 20GB to the current directory (/kaggle/working/) that gets preserved as output when you create a version using \"Save & Run All\" \n",
    "# You can also write temporary files to /kaggle/temp/, but they won't be saved outside of the current session"
   ]
  },
  {
   "cell_type": "markdown",
   "id": "2fa0b594",
   "metadata": {
    "papermill": {
     "duration": 0.009451,
     "end_time": "2024-05-22T00:38:46.448289",
     "exception": false,
     "start_time": "2024-05-22T00:38:46.438838",
     "status": "completed"
    },
    "tags": []
   },
   "source": [
    "# Libs"
   ]
  },
  {
   "cell_type": "code",
   "execution_count": 2,
   "id": "47eb1d1b",
   "metadata": {
    "execution": {
     "iopub.execute_input": "2024-05-22T00:38:46.471329Z",
     "iopub.status.busy": "2024-05-22T00:38:46.470087Z",
     "iopub.status.idle": "2024-05-22T00:38:49.068780Z",
     "shell.execute_reply": "2024-05-22T00:38:49.067622Z"
    },
    "papermill": {
     "duration": 2.61354,
     "end_time": "2024-05-22T00:38:49.071763",
     "exception": false,
     "start_time": "2024-05-22T00:38:46.458223",
     "status": "completed"
    },
    "tags": []
   },
   "outputs": [],
   "source": [
    "import numpy as np # linear algebra\n",
    "import pandas as pd # data processing, CSV file I/O (e.g. pd.read_csv)\n",
    "import seaborn as sns\n",
    "import matplotlib.pyplot as plt"
   ]
  },
  {
   "cell_type": "markdown",
   "id": "c073d0e7",
   "metadata": {
    "papermill": {
     "duration": 0.009988,
     "end_time": "2024-05-22T00:38:49.091626",
     "exception": false,
     "start_time": "2024-05-22T00:38:49.081638",
     "status": "completed"
    },
    "tags": []
   },
   "source": [
    "# Checking Data"
   ]
  },
  {
   "cell_type": "code",
   "execution_count": 3,
   "id": "04158590",
   "metadata": {
    "execution": {
     "iopub.execute_input": "2024-05-22T00:38:49.114464Z",
     "iopub.status.busy": "2024-05-22T00:38:49.113839Z",
     "iopub.status.idle": "2024-05-22T00:38:49.754820Z",
     "shell.execute_reply": "2024-05-22T00:38:49.753719Z"
    },
    "papermill": {
     "duration": 0.655779,
     "end_time": "2024-05-22T00:38:49.758037",
     "exception": false,
     "start_time": "2024-05-22T00:38:49.102258",
     "status": "completed"
    },
    "tags": []
   },
   "outputs": [
    {
     "data": {
      "text/html": [
       "<div>\n",
       "<style scoped>\n",
       "    .dataframe tbody tr th:only-of-type {\n",
       "        vertical-align: middle;\n",
       "    }\n",
       "\n",
       "    .dataframe tbody tr th {\n",
       "        vertical-align: top;\n",
       "    }\n",
       "\n",
       "    .dataframe thead th {\n",
       "        text-align: right;\n",
       "    }\n",
       "</style>\n",
       "<table border=\"1\" class=\"dataframe\">\n",
       "  <thead>\n",
       "    <tr style=\"text-align: right;\">\n",
       "      <th></th>\n",
       "      <th>Poster</th>\n",
       "      <th>Title</th>\n",
       "      <th>Year</th>\n",
       "      <th>Certificate</th>\n",
       "      <th>Duration (min)</th>\n",
       "      <th>Genre</th>\n",
       "      <th>Rating</th>\n",
       "      <th>Metascore</th>\n",
       "      <th>Director</th>\n",
       "      <th>Cast</th>\n",
       "      <th>Votes</th>\n",
       "      <th>Description</th>\n",
       "      <th>Review Count</th>\n",
       "      <th>Review Title</th>\n",
       "      <th>Review</th>\n",
       "    </tr>\n",
       "  </thead>\n",
       "  <tbody>\n",
       "    <tr>\n",
       "      <th>0</th>\n",
       "      <td>https://m.media-amazon.com/images/M/MV5BYWRkZj...</td>\n",
       "      <td>The Idea of You</td>\n",
       "      <td>2023.0</td>\n",
       "      <td>R</td>\n",
       "      <td>115.0</td>\n",
       "      <td>Comedy, Drama, Romance</td>\n",
       "      <td>6.4</td>\n",
       "      <td>67.0</td>\n",
       "      <td>Michael Showalter</td>\n",
       "      <td>Anne Hathaway, Nicholas Galitzine, Ella Rubin,...</td>\n",
       "      <td>28,744</td>\n",
       "      <td>Solène, a 40-year-old single mom, begins an un...</td>\n",
       "      <td>166</td>\n",
       "      <td>Hypocrisy as an idea</td>\n",
       "      <td>This film, as well as the reaction to it, is a...</td>\n",
       "    </tr>\n",
       "    <tr>\n",
       "      <th>1</th>\n",
       "      <td>https://m.media-amazon.com/images/M/MV5BZGI4NT...</td>\n",
       "      <td>Kingdom of the Planet of the Apes</td>\n",
       "      <td>2023.0</td>\n",
       "      <td>PG-13</td>\n",
       "      <td>145.0</td>\n",
       "      <td>Action, Adventure, Sci-Fi</td>\n",
       "      <td>7.3</td>\n",
       "      <td>66.0</td>\n",
       "      <td>Wes Ball</td>\n",
       "      <td>Owen Teague, Freya Allan, Kevin Durand, Peter ...</td>\n",
       "      <td>22,248</td>\n",
       "      <td>Many years after the reign of Caesar, a young ...</td>\n",
       "      <td>183</td>\n",
       "      <td>A phenomenal start to another trilogy!</td>\n",
       "      <td>I'm a big fan of all the planet of the apes, a...</td>\n",
       "    </tr>\n",
       "    <tr>\n",
       "      <th>2</th>\n",
       "      <td>https://m.media-amazon.com/images/M/MV5BZjIyOT...</td>\n",
       "      <td>Unfrosted</td>\n",
       "      <td>2023.0</td>\n",
       "      <td>PG-13</td>\n",
       "      <td>97.0</td>\n",
       "      <td>Biography, Comedy, History</td>\n",
       "      <td>5.5</td>\n",
       "      <td>42.0</td>\n",
       "      <td>Jerry Seinfeld</td>\n",
       "      <td>Isaac Bae, Jerry Seinfeld, Chris Rickett, Rach...</td>\n",
       "      <td>18,401</td>\n",
       "      <td>In 1963 Michigan, business rivals Kellogg's an...</td>\n",
       "      <td>333</td>\n",
       "      <td>not funny</td>\n",
       "      <td>Pretty much the worst criticism you can lay on...</td>\n",
       "    </tr>\n",
       "    <tr>\n",
       "      <th>3</th>\n",
       "      <td>https://m.media-amazon.com/images/M/MV5BMjA5Zj...</td>\n",
       "      <td>The Fall Guy</td>\n",
       "      <td>2023.0</td>\n",
       "      <td>PG-13</td>\n",
       "      <td>126.0</td>\n",
       "      <td>Action, Comedy, Drama</td>\n",
       "      <td>7.3</td>\n",
       "      <td>73.0</td>\n",
       "      <td>David Leitch</td>\n",
       "      <td>Ryan Gosling, Emily Blunt, Aaron Taylor-Johnso...</td>\n",
       "      <td>38,953</td>\n",
       "      <td>A down-and-out stuntman must find the missing ...</td>\n",
       "      <td>384</td>\n",
       "      <td>Everything you needed and more!</td>\n",
       "      <td>Just got out of the Austin premier at SXSW and...</td>\n",
       "    </tr>\n",
       "    <tr>\n",
       "      <th>4</th>\n",
       "      <td>https://m.media-amazon.com/images/M/MV5BNTk1MT...</td>\n",
       "      <td>Challengers</td>\n",
       "      <td>2023.0</td>\n",
       "      <td>R</td>\n",
       "      <td>131.0</td>\n",
       "      <td>Drama, Romance, Sport</td>\n",
       "      <td>7.7</td>\n",
       "      <td>82.0</td>\n",
       "      <td>Luca Guadagnino</td>\n",
       "      <td>Zendaya, Mike Faist, Josh O'Connor, Darnell Ap...</td>\n",
       "      <td>32,517</td>\n",
       "      <td>Tashi, a former tennis prodigy turned coach, t...</td>\n",
       "      <td>194</td>\n",
       "      <td>Watch \"Match Point\" instead</td>\n",
       "      <td>This is a tough one. I liked the concept and t...</td>\n",
       "    </tr>\n",
       "  </tbody>\n",
       "</table>\n",
       "</div>"
      ],
      "text/plain": [
       "                                              Poster  \\\n",
       "0  https://m.media-amazon.com/images/M/MV5BYWRkZj...   \n",
       "1  https://m.media-amazon.com/images/M/MV5BZGI4NT...   \n",
       "2  https://m.media-amazon.com/images/M/MV5BZjIyOT...   \n",
       "3  https://m.media-amazon.com/images/M/MV5BMjA5Zj...   \n",
       "4  https://m.media-amazon.com/images/M/MV5BNTk1MT...   \n",
       "\n",
       "                               Title    Year Certificate  Duration (min)  \\\n",
       "0                    The Idea of You  2023.0           R           115.0   \n",
       "1  Kingdom of the Planet of the Apes  2023.0       PG-13           145.0   \n",
       "2                          Unfrosted  2023.0       PG-13            97.0   \n",
       "3                       The Fall Guy  2023.0       PG-13           126.0   \n",
       "4                        Challengers  2023.0           R           131.0   \n",
       "\n",
       "                        Genre  Rating  Metascore           Director  \\\n",
       "0      Comedy, Drama, Romance     6.4       67.0  Michael Showalter   \n",
       "1   Action, Adventure, Sci-Fi     7.3       66.0           Wes Ball   \n",
       "2  Biography, Comedy, History     5.5       42.0     Jerry Seinfeld   \n",
       "3       Action, Comedy, Drama     7.3       73.0       David Leitch   \n",
       "4       Drama, Romance, Sport     7.7       82.0    Luca Guadagnino   \n",
       "\n",
       "                                                Cast   Votes  \\\n",
       "0  Anne Hathaway, Nicholas Galitzine, Ella Rubin,...  28,744   \n",
       "1  Owen Teague, Freya Allan, Kevin Durand, Peter ...  22,248   \n",
       "2  Isaac Bae, Jerry Seinfeld, Chris Rickett, Rach...  18,401   \n",
       "3  Ryan Gosling, Emily Blunt, Aaron Taylor-Johnso...  38,953   \n",
       "4  Zendaya, Mike Faist, Josh O'Connor, Darnell Ap...  32,517   \n",
       "\n",
       "                                         Description Review Count  \\\n",
       "0  Solène, a 40-year-old single mom, begins an un...          166   \n",
       "1  Many years after the reign of Caesar, a young ...          183   \n",
       "2  In 1963 Michigan, business rivals Kellogg's an...          333   \n",
       "3  A down-and-out stuntman must find the missing ...          384   \n",
       "4  Tashi, a former tennis prodigy turned coach, t...          194   \n",
       "\n",
       "                             Review Title  \\\n",
       "0                    Hypocrisy as an idea   \n",
       "1  A phenomenal start to another trilogy!   \n",
       "2                               not funny   \n",
       "3         Everything you needed and more!   \n",
       "4             Watch \"Match Point\" instead   \n",
       "\n",
       "                                              Review  \n",
       "0  This film, as well as the reaction to it, is a...  \n",
       "1  I'm a big fan of all the planet of the apes, a...  \n",
       "2  Pretty much the worst criticism you can lay on...  \n",
       "3  Just got out of the Austin premier at SXSW and...  \n",
       "4  This is a tough one. I liked the concept and t...  "
      ]
     },
     "execution_count": 3,
     "metadata": {},
     "output_type": "execute_result"
    }
   ],
   "source": [
    "df = pd.read_csv(file_list[0])\n",
    "df.head()"
   ]
  },
  {
   "cell_type": "code",
   "execution_count": 4,
   "id": "0dedfc1d",
   "metadata": {
    "execution": {
     "iopub.execute_input": "2024-05-22T00:38:49.780707Z",
     "iopub.status.busy": "2024-05-22T00:38:49.780280Z",
     "iopub.status.idle": "2024-05-22T00:38:49.826774Z",
     "shell.execute_reply": "2024-05-22T00:38:49.825318Z"
    },
    "papermill": {
     "duration": 0.061259,
     "end_time": "2024-05-22T00:38:49.829678",
     "exception": false,
     "start_time": "2024-05-22T00:38:49.768419",
     "status": "completed"
    },
    "tags": []
   },
   "outputs": [
    {
     "name": "stdout",
     "output_type": "stream",
     "text": [
      "<class 'pandas.core.frame.DataFrame'>\n",
      "RangeIndex: 10000 entries, 0 to 9999\n",
      "Data columns (total 15 columns):\n",
      " #   Column        Non-Null Count  Dtype  \n",
      "---  ------        --------------  -----  \n",
      " 0   poster        10000 non-null  object \n",
      " 1   title         10000 non-null  object \n",
      " 2   year          9850 non-null   float64\n",
      " 3   certificate   7370 non-null   object \n",
      " 4   duration_min  9664 non-null   float64\n",
      " 5   genre         9993 non-null   object \n",
      " 6   rating        9596 non-null   float64\n",
      " 7   metascore     7555 non-null   float64\n",
      " 8   director      9995 non-null   object \n",
      " 9   cast          9961 non-null   object \n",
      " 10  votes         9596 non-null   object \n",
      " 11  description   10000 non-null  object \n",
      " 12  review_count  9999 non-null   object \n",
      " 13  review_title  9483 non-null   object \n",
      " 14  review        9484 non-null   object \n",
      "dtypes: float64(4), object(11)\n",
      "memory usage: 1.1+ MB\n"
     ]
    }
   ],
   "source": [
    "df.columns = df.columns.str.lower()\n",
    "df.rename(mapper={'duration (min)':'duration_min',\n",
    "                 'review count':'review_count',\n",
    "                 'review title': 'review_title'}, \n",
    "          axis=1, inplace=True)\n",
    "df.info()"
   ]
  },
  {
   "cell_type": "code",
   "execution_count": 5,
   "id": "3322e333",
   "metadata": {
    "execution": {
     "iopub.execute_input": "2024-05-22T00:38:49.854156Z",
     "iopub.status.busy": "2024-05-22T00:38:49.853306Z",
     "iopub.status.idle": "2024-05-22T00:38:49.865895Z",
     "shell.execute_reply": "2024-05-22T00:38:49.864955Z"
    },
    "papermill": {
     "duration": 0.027611,
     "end_time": "2024-05-22T00:38:49.868682",
     "exception": false,
     "start_time": "2024-05-22T00:38:49.841071",
     "status": "completed"
    },
    "tags": []
   },
   "outputs": [],
   "source": [
    "df.drop(labels=['poster'],axis=1, inplace=True)"
   ]
  },
  {
   "cell_type": "markdown",
   "id": "5da1a56a",
   "metadata": {
    "papermill": {
     "duration": 0.009946,
     "end_time": "2024-05-22T00:38:49.889660",
     "exception": false,
     "start_time": "2024-05-22T00:38:49.879714",
     "status": "completed"
    },
    "tags": []
   },
   "source": [
    "## checking by year"
   ]
  },
  {
   "cell_type": "code",
   "execution_count": 6,
   "id": "746cd0ca",
   "metadata": {
    "execution": {
     "iopub.execute_input": "2024-05-22T00:38:49.912591Z",
     "iopub.status.busy": "2024-05-22T00:38:49.912138Z",
     "iopub.status.idle": "2024-05-22T00:38:49.944267Z",
     "shell.execute_reply": "2024-05-22T00:38:49.943146Z"
    },
    "papermill": {
     "duration": 0.047009,
     "end_time": "2024-05-22T00:38:49.946932",
     "exception": false,
     "start_time": "2024-05-22T00:38:49.899923",
     "status": "completed"
    },
    "tags": []
   },
   "outputs": [
    {
     "data": {
      "text/html": [
       "<div>\n",
       "<style scoped>\n",
       "    .dataframe tbody tr th:only-of-type {\n",
       "        vertical-align: middle;\n",
       "    }\n",
       "\n",
       "    .dataframe tbody tr th {\n",
       "        vertical-align: top;\n",
       "    }\n",
       "\n",
       "    .dataframe thead th {\n",
       "        text-align: right;\n",
       "    }\n",
       "</style>\n",
       "<table border=\"1\" class=\"dataframe\">\n",
       "  <thead>\n",
       "    <tr style=\"text-align: right;\">\n",
       "      <th></th>\n",
       "      <th>year</th>\n",
       "      <th>duration_min</th>\n",
       "      <th>rating</th>\n",
       "      <th>metascore</th>\n",
       "    </tr>\n",
       "  </thead>\n",
       "  <tbody>\n",
       "    <tr>\n",
       "      <th>count</th>\n",
       "      <td>10000.000000</td>\n",
       "      <td>9664.000000</td>\n",
       "      <td>10000.000000</td>\n",
       "      <td>10000.00000</td>\n",
       "    </tr>\n",
       "    <tr>\n",
       "      <th>mean</th>\n",
       "      <td>1975.675000</td>\n",
       "      <td>108.809603</td>\n",
       "      <td>6.441090</td>\n",
       "      <td>58.05160</td>\n",
       "    </tr>\n",
       "    <tr>\n",
       "      <th>std</th>\n",
       "      <td>244.542327</td>\n",
       "      <td>23.159749</td>\n",
       "      <td>1.030024</td>\n",
       "      <td>15.51077</td>\n",
       "    </tr>\n",
       "    <tr>\n",
       "      <th>min</th>\n",
       "      <td>0.000000</td>\n",
       "      <td>45.000000</td>\n",
       "      <td>1.300000</td>\n",
       "      <td>1.00000</td>\n",
       "    </tr>\n",
       "    <tr>\n",
       "      <th>25%</th>\n",
       "      <td>1996.750000</td>\n",
       "      <td>95.000000</td>\n",
       "      <td>5.900000</td>\n",
       "      <td>50.00000</td>\n",
       "    </tr>\n",
       "    <tr>\n",
       "      <th>50%</th>\n",
       "      <td>2011.000000</td>\n",
       "      <td>105.000000</td>\n",
       "      <td>6.500000</td>\n",
       "      <td>58.00000</td>\n",
       "    </tr>\n",
       "    <tr>\n",
       "      <th>75%</th>\n",
       "      <td>2020.250000</td>\n",
       "      <td>118.000000</td>\n",
       "      <td>7.200000</td>\n",
       "      <td>67.00000</td>\n",
       "    </tr>\n",
       "    <tr>\n",
       "      <th>max</th>\n",
       "      <td>2025.000000</td>\n",
       "      <td>746.000000</td>\n",
       "      <td>9.700000</td>\n",
       "      <td>100.00000</td>\n",
       "    </tr>\n",
       "  </tbody>\n",
       "</table>\n",
       "</div>"
      ],
      "text/plain": [
       "               year  duration_min        rating    metascore\n",
       "count  10000.000000   9664.000000  10000.000000  10000.00000\n",
       "mean    1975.675000    108.809603      6.441090     58.05160\n",
       "std      244.542327     23.159749      1.030024     15.51077\n",
       "min        0.000000     45.000000      1.300000      1.00000\n",
       "25%     1996.750000     95.000000      5.900000     50.00000\n",
       "50%     2011.000000    105.000000      6.500000     58.00000\n",
       "75%     2020.250000    118.000000      7.200000     67.00000\n",
       "max     2025.000000    746.000000      9.700000    100.00000"
      ]
     },
     "execution_count": 6,
     "metadata": {},
     "output_type": "execute_result"
    }
   ],
   "source": [
    "df1 = df\n",
    "df1.loc[:, 'year'] = df1['year'].fillna(0)\n",
    "df1.loc[:, 'rating'] = df1['rating'].fillna(df1['rating'].median())\n",
    "df1.loc[:, 'metascore'] = df1['metascore'].fillna(df1['metascore'].median())\n",
    "df1.describe()"
   ]
  },
  {
   "cell_type": "code",
   "execution_count": 7,
   "id": "3e0c315b",
   "metadata": {
    "execution": {
     "iopub.execute_input": "2024-05-22T00:38:49.970429Z",
     "iopub.status.busy": "2024-05-22T00:38:49.969642Z",
     "iopub.status.idle": "2024-05-22T00:38:49.975649Z",
     "shell.execute_reply": "2024-05-22T00:38:49.974653Z"
    },
    "papermill": {
     "duration": 0.020848,
     "end_time": "2024-05-22T00:38:49.978342",
     "exception": false,
     "start_time": "2024-05-22T00:38:49.957494",
     "status": "completed"
    },
    "tags": []
   },
   "outputs": [],
   "source": [
    "df1['year']=df1['year'].astype(int)"
   ]
  },
  {
   "cell_type": "code",
   "execution_count": 8,
   "id": "828057c2",
   "metadata": {
    "execution": {
     "iopub.execute_input": "2024-05-22T00:38:50.002278Z",
     "iopub.status.busy": "2024-05-22T00:38:50.001820Z",
     "iopub.status.idle": "2024-05-22T00:38:50.014677Z",
     "shell.execute_reply": "2024-05-22T00:38:50.013149Z"
    },
    "papermill": {
     "duration": 0.028628,
     "end_time": "2024-05-22T00:38:50.017510",
     "exception": false,
     "start_time": "2024-05-22T00:38:49.988882",
     "status": "completed"
    },
    "tags": []
   },
   "outputs": [],
   "source": [
    "mean_rating_yearly = df.groupby('year')['rating'].mean().sort_values(ascending=False).head(20)\n",
    "mean_metascore_yearly = df.groupby('year')['metascore'].mean().sort_values(ascending=False).head(20)\n",
    "mean_duration_yearly = df.groupby('year')['duration_min'].mean().sort_values(ascending=False).head(20)"
   ]
  },
  {
   "cell_type": "code",
   "execution_count": 9,
   "id": "e4af8b85",
   "metadata": {
    "execution": {
     "iopub.execute_input": "2024-05-22T00:38:50.043372Z",
     "iopub.status.busy": "2024-05-22T00:38:50.042890Z",
     "iopub.status.idle": "2024-05-22T00:38:51.222543Z",
     "shell.execute_reply": "2024-05-22T00:38:51.221261Z"
    },
    "papermill": {
     "duration": 1.195299,
     "end_time": "2024-05-22T00:38:51.225388",
     "exception": false,
     "start_time": "2024-05-22T00:38:50.030089",
     "status": "completed"
    },
    "tags": []
   },
   "outputs": [
    {
     "name": "stderr",
     "output_type": "stream",
     "text": [
      "/opt/conda/lib/python3.10/site-packages/seaborn/_oldcore.py:1119: FutureWarning: use_inf_as_na option is deprecated and will be removed in a future version. Convert inf values to NaN before operating instead.\n",
      "  with pd.option_context('mode.use_inf_as_na', True):\n",
      "/opt/conda/lib/python3.10/site-packages/seaborn/_oldcore.py:1119: FutureWarning: use_inf_as_na option is deprecated and will be removed in a future version. Convert inf values to NaN before operating instead.\n",
      "  with pd.option_context('mode.use_inf_as_na', True):\n",
      "/opt/conda/lib/python3.10/site-packages/seaborn/_oldcore.py:1119: FutureWarning: use_inf_as_na option is deprecated and will be removed in a future version. Convert inf values to NaN before operating instead.\n",
      "  with pd.option_context('mode.use_inf_as_na', True):\n",
      "/opt/conda/lib/python3.10/site-packages/seaborn/_oldcore.py:1119: FutureWarning: use_inf_as_na option is deprecated and will be removed in a future version. Convert inf values to NaN before operating instead.\n",
      "  with pd.option_context('mode.use_inf_as_na', True):\n",
      "/opt/conda/lib/python3.10/site-packages/seaborn/_oldcore.py:1119: FutureWarning: use_inf_as_na option is deprecated and will be removed in a future version. Convert inf values to NaN before operating instead.\n",
      "  with pd.option_context('mode.use_inf_as_na', True):\n",
      "/opt/conda/lib/python3.10/site-packages/seaborn/_oldcore.py:1119: FutureWarning: use_inf_as_na option is deprecated and will be removed in a future version. Convert inf values to NaN before operating instead.\n",
      "  with pd.option_context('mode.use_inf_as_na', True):\n"
     ]
    },
    {
     "data": {
      "image/png": "[encoded data removed]",
      "text/plain": [
       "<Figure size 1500x300 with 1 Axes>"
      ]
     },
     "metadata": {},
     "output_type": "display_data"
    },
    {
     "data": {
      "image/png": "[encoded data removed]",
      "text/plain": [
       "<Figure size 1500x300 with 1 Axes>"
      ]
     },
     "metadata": {},
     "output_type": "display_data"
    },
    {
     "data": {
      "image/png": "[encoded data removed]",
      "text/plain": [
       "<Figure size 1500x300 with 1 Axes>"
      ]
     },
     "metadata": {},
     "output_type": "display_data"
    }
   ],
   "source": [
    "plt.figure(figsize=(15,3))\n",
    "sns.set_style('whitegrid')\n",
    "sns.lineplot(mean_rating_yearly, x=mean_rating_yearly.index,\n",
    "             y=mean_rating_yearly.values)\n",
    "\n",
    "plt.figure(figsize=(15,3))\n",
    "sns.lineplot(mean_metascore_yearly, x=mean_metascore_yearly.index,\n",
    "             y=mean_metascore_yearly.values)\n",
    "\n",
    "plt.figure(figsize=(15,3))\n",
    "sns.lineplot(mean_duration_yearly, x=mean_duration_yearly.index,\n",
    "             y=mean_duration_yearly.values)\n",
    "\n",
    "plt.show()"
   ]
  },
  {
   "cell_type": "code",
   "execution_count": 10,
   "id": "4e2d39f0",
   "metadata": {
    "execution": {
     "iopub.execute_input": "2024-05-22T00:38:51.253025Z",
     "iopub.status.busy": "2024-05-22T00:38:51.252613Z",
     "iopub.status.idle": "2024-05-22T00:38:51.272714Z",
     "shell.execute_reply": "2024-05-22T00:38:51.271261Z"
    },
    "papermill": {
     "duration": 0.036989,
     "end_time": "2024-05-22T00:38:51.275308",
     "exception": false,
     "start_time": "2024-05-22T00:38:51.238319",
     "status": "completed"
    },
    "tags": []
   },
   "outputs": [
    {
     "data": {
      "text/html": [
       "<div>\n",
       "<style scoped>\n",
       "    .dataframe tbody tr th:only-of-type {\n",
       "        vertical-align: middle;\n",
       "    }\n",
       "\n",
       "    .dataframe tbody tr th {\n",
       "        vertical-align: top;\n",
       "    }\n",
       "\n",
       "    .dataframe thead th {\n",
       "        text-align: right;\n",
       "    }\n",
       "</style>\n",
       "<table border=\"1\" class=\"dataframe\">\n",
       "  <thead>\n",
       "    <tr style=\"text-align: right;\">\n",
       "      <th></th>\n",
       "      <th>year</th>\n",
       "      <th>0</th>\n",
       "      <th>1</th>\n",
       "      <th>2</th>\n",
       "    </tr>\n",
       "  </thead>\n",
       "  <tbody>\n",
       "    <tr>\n",
       "      <th>0</th>\n",
       "      <td>1990</td>\n",
       "      <td>7.224</td>\n",
       "      <td>66.60</td>\n",
       "      <td>132.320000</td>\n",
       "    </tr>\n",
       "    <tr>\n",
       "      <th>1</th>\n",
       "      <td>1991</td>\n",
       "      <td>6.994</td>\n",
       "      <td>62.60</td>\n",
       "      <td>121.282609</td>\n",
       "    </tr>\n",
       "    <tr>\n",
       "      <th>2</th>\n",
       "      <td>1972</td>\n",
       "      <td>6.964</td>\n",
       "      <td>61.38</td>\n",
       "      <td>115.916667</td>\n",
       "    </tr>\n",
       "    <tr>\n",
       "      <th>3</th>\n",
       "      <td>1979</td>\n",
       "      <td>6.824</td>\n",
       "      <td>61.24</td>\n",
       "      <td>112.489796</td>\n",
       "    </tr>\n",
       "    <tr>\n",
       "      <th>4</th>\n",
       "      <td>1964</td>\n",
       "      <td>6.796</td>\n",
       "      <td>59.68</td>\n",
       "      <td>117.142857</td>\n",
       "    </tr>\n",
       "  </tbody>\n",
       "</table>\n",
       "</div>"
      ],
      "text/plain": [
       "   year      0      1           2\n",
       "0  1990  7.224  66.60  132.320000\n",
       "1  1991  6.994  62.60  121.282609\n",
       "2  1972  6.964  61.38  115.916667\n",
       "3  1979  6.824  61.24  112.489796\n",
       "4  1964  6.796  59.68  117.142857"
      ]
     },
     "execution_count": 10,
     "metadata": {},
     "output_type": "execute_result"
    }
   ],
   "source": [
    "df_mean=pd.concat([mean_rating_yearly,mean_metascore_yearly,mean_duration_yearly],\n",
    "         axis=1, ignore_index=True).reset_index()\n",
    "df_mean.head()"
   ]
  },
  {
   "cell_type": "code",
   "execution_count": 11,
   "id": "ee197a51",
   "metadata": {
    "execution": {
     "iopub.execute_input": "2024-05-22T00:38:51.303708Z",
     "iopub.status.busy": "2024-05-22T00:38:51.302894Z",
     "iopub.status.idle": "2024-05-22T00:38:51.316830Z",
     "shell.execute_reply": "2024-05-22T00:38:51.315576Z"
    },
    "papermill": {
     "duration": 0.030634,
     "end_time": "2024-05-22T00:38:51.318983",
     "exception": false,
     "start_time": "2024-05-22T00:38:51.288349",
     "status": "completed"
    },
    "tags": []
   },
   "outputs": [
    {
     "data": {
      "text/html": [
       "<div>\n",
       "<style scoped>\n",
       "    .dataframe tbody tr th:only-of-type {\n",
       "        vertical-align: middle;\n",
       "    }\n",
       "\n",
       "    .dataframe tbody tr th {\n",
       "        vertical-align: top;\n",
       "    }\n",
       "\n",
       "    .dataframe thead th {\n",
       "        text-align: right;\n",
       "    }\n",
       "</style>\n",
       "<table border=\"1\" class=\"dataframe\">\n",
       "  <thead>\n",
       "    <tr style=\"text-align: right;\">\n",
       "      <th></th>\n",
       "      <th>year</th>\n",
       "      <th>mean_rating_yearly</th>\n",
       "      <th>mean_metascore_yearly</th>\n",
       "      <th>mean_duration_yearly</th>\n",
       "    </tr>\n",
       "  </thead>\n",
       "  <tbody>\n",
       "    <tr>\n",
       "      <th>0</th>\n",
       "      <td>1990</td>\n",
       "      <td>7.224</td>\n",
       "      <td>66.60</td>\n",
       "      <td>132.320000</td>\n",
       "    </tr>\n",
       "    <tr>\n",
       "      <th>1</th>\n",
       "      <td>1991</td>\n",
       "      <td>6.994</td>\n",
       "      <td>62.60</td>\n",
       "      <td>121.282609</td>\n",
       "    </tr>\n",
       "    <tr>\n",
       "      <th>2</th>\n",
       "      <td>1972</td>\n",
       "      <td>6.964</td>\n",
       "      <td>61.38</td>\n",
       "      <td>115.916667</td>\n",
       "    </tr>\n",
       "    <tr>\n",
       "      <th>3</th>\n",
       "      <td>1979</td>\n",
       "      <td>6.824</td>\n",
       "      <td>61.24</td>\n",
       "      <td>112.489796</td>\n",
       "    </tr>\n",
       "    <tr>\n",
       "      <th>4</th>\n",
       "      <td>1964</td>\n",
       "      <td>6.796</td>\n",
       "      <td>59.68</td>\n",
       "      <td>117.142857</td>\n",
       "    </tr>\n",
       "  </tbody>\n",
       "</table>\n",
       "</div>"
      ],
      "text/plain": [
       "   year  mean_rating_yearly  mean_metascore_yearly  mean_duration_yearly\n",
       "0  1990               7.224                  66.60            132.320000\n",
       "1  1991               6.994                  62.60            121.282609\n",
       "2  1972               6.964                  61.38            115.916667\n",
       "3  1979               6.824                  61.24            112.489796\n",
       "4  1964               6.796                  59.68            117.142857"
      ]
     },
     "execution_count": 11,
     "metadata": {},
     "output_type": "execute_result"
    }
   ],
   "source": [
    "df_mean.columns = ['year','mean_rating_yearly','mean_metascore_yearly','mean_duration_yearly']\n",
    "df_mean.head()"
   ]
  },
  {
   "cell_type": "code",
   "execution_count": 12,
   "id": "9c3542c1",
   "metadata": {
    "execution": {
     "iopub.execute_input": "2024-05-22T00:38:51.353125Z",
     "iopub.status.busy": "2024-05-22T00:38:51.352146Z",
     "iopub.status.idle": "2024-05-22T00:38:51.358343Z",
     "shell.execute_reply": "2024-05-22T00:38:51.357365Z"
    },
    "papermill": {
     "duration": 0.033591,
     "end_time": "2024-05-22T00:38:51.366564",
     "exception": false,
     "start_time": "2024-05-22T00:38:51.332973",
     "status": "completed"
    },
    "tags": []
   },
   "outputs": [],
   "source": [
    "corr = df_mean.corr()"
   ]
  },
  {
   "cell_type": "code",
   "execution_count": 13,
   "id": "c866d2b9",
   "metadata": {
    "execution": {
     "iopub.execute_input": "2024-05-22T00:38:51.403668Z",
     "iopub.status.busy": "2024-05-22T00:38:51.402941Z",
     "iopub.status.idle": "2024-05-22T00:38:51.868257Z",
     "shell.execute_reply": "2024-05-22T00:38:51.867053Z"
    },
    "papermill": {
     "duration": 0.486841,
     "end_time": "2024-05-22T00:38:51.871081",
     "exception": false,
     "start_time": "2024-05-22T00:38:51.384240",
     "status": "completed"
    },
    "tags": []
   },
   "outputs": [
    {
     "data": {
      "image/png": "[encoded data removed]",
      "text/plain": [
       "<Figure size 640x480 with 2 Axes>"
      ]
     },
     "metadata": {},
     "output_type": "display_data"
    }
   ],
   "source": [
    "sns.heatmap(corr, annot=True,fmt='.2f' )\n",
    "plt.xticks(rotation=45)\n",
    "plt.show()"
   ]
  },
  {
   "cell_type": "markdown",
   "id": "85e99a9b",
   "metadata": {
    "papermill": {
     "duration": 0.013648,
     "end_time": "2024-05-22T00:38:51.898774",
     "exception": false,
     "start_time": "2024-05-22T00:38:51.885126",
     "status": "completed"
    },
    "tags": []
   },
   "source": [
    "# Checking certificate"
   ]
  },
  {
   "cell_type": "code",
   "execution_count": 14,
   "id": "288e27a6",
   "metadata": {
    "execution": {
     "iopub.execute_input": "2024-05-22T00:38:51.928749Z",
     "iopub.status.busy": "2024-05-22T00:38:51.928311Z",
     "iopub.status.idle": "2024-05-22T00:38:51.937733Z",
     "shell.execute_reply": "2024-05-22T00:38:51.936362Z"
    },
    "papermill": {
     "duration": 0.026975,
     "end_time": "2024-05-22T00:38:51.939944",
     "exception": false,
     "start_time": "2024-05-22T00:38:51.912969",
     "status": "completed"
    },
    "tags": []
   },
   "outputs": [],
   "source": [
    "df1.loc[:, 'certificate'] = df1['certificate'].str.lower()"
   ]
  },
  {
   "cell_type": "code",
   "execution_count": 15,
   "id": "b472085f",
   "metadata": {
    "execution": {
     "iopub.execute_input": "2024-05-22T00:38:51.969690Z",
     "iopub.status.busy": "2024-05-22T00:38:51.969270Z",
     "iopub.status.idle": "2024-05-22T00:38:51.994935Z",
     "shell.execute_reply": "2024-05-22T00:38:51.993451Z"
    },
    "papermill": {
     "duration": 0.043682,
     "end_time": "2024-05-22T00:38:51.997531",
     "exception": false,
     "start_time": "2024-05-22T00:38:51.953849",
     "status": "completed"
    },
    "tags": []
   },
   "outputs": [
    {
     "name": "stdout",
     "output_type": "stream",
     "text": [
      "<class 'pandas.core.frame.DataFrame'>\n",
      "RangeIndex: 10000 entries, 0 to 9999\n",
      "Data columns (total 14 columns):\n",
      " #   Column        Non-Null Count  Dtype  \n",
      "---  ------        --------------  -----  \n",
      " 0   title         10000 non-null  object \n",
      " 1   year          10000 non-null  int64  \n",
      " 2   certificate   7370 non-null   object \n",
      " 3   duration_min  9664 non-null   float64\n",
      " 4   genre         9993 non-null   object \n",
      " 5   rating        10000 non-null  float64\n",
      " 6   metascore     10000 non-null  float64\n",
      " 7   director      9995 non-null   object \n",
      " 8   cast          9961 non-null   object \n",
      " 9   votes         9596 non-null   object \n",
      " 10  description   10000 non-null  object \n",
      " 11  review_count  9999 non-null   object \n",
      " 12  review_title  9483 non-null   object \n",
      " 13  review        9484 non-null   object \n",
      "dtypes: float64(3), int64(1), object(10)\n",
      "memory usage: 1.1+ MB\n"
     ]
    }
   ],
   "source": [
    "df1.info()"
   ]
  },
  {
   "cell_type": "code",
   "execution_count": 16,
   "id": "b7961d36",
   "metadata": {
    "execution": {
     "iopub.execute_input": "2024-05-22T00:38:52.028896Z",
     "iopub.status.busy": "2024-05-22T00:38:52.028473Z",
     "iopub.status.idle": "2024-05-22T00:38:52.046754Z",
     "shell.execute_reply": "2024-05-22T00:38:52.045236Z"
    },
    "papermill": {
     "duration": 0.037608,
     "end_time": "2024-05-22T00:38:52.049397",
     "exception": false,
     "start_time": "2024-05-22T00:38:52.011789",
     "status": "completed"
    },
    "tags": []
   },
   "outputs": [],
   "source": [
    "top_grouped_certificate = df1.groupby('certificate').size().sort_values(ascending=False).head(15)\n",
    "top_certificate_mean_rating = df1.groupby('certificate')['rating'].mean().sort_values(ascending=False).head(15)\n",
    "top_certificate_mean_duration = df1.groupby('certificate')['duration_min'].mean().sort_values(ascending=False).head(15)"
   ]
  },
  {
   "cell_type": "code",
   "execution_count": 17,
   "id": "ae2e4d53",
   "metadata": {
    "execution": {
     "iopub.execute_input": "2024-05-22T00:38:52.081275Z",
     "iopub.status.busy": "2024-05-22T00:38:52.080034Z",
     "iopub.status.idle": "2024-05-22T00:38:53.477450Z",
     "shell.execute_reply": "2024-05-22T00:38:53.476187Z"
    },
    "papermill": {
     "duration": 1.416765,
     "end_time": "2024-05-22T00:38:53.480318",
     "exception": false,
     "start_time": "2024-05-22T00:38:52.063553",
     "status": "completed"
    },
    "tags": []
   },
   "outputs": [
    {
     "data": {
      "image/png": "[encoded data removed]",
      "text/plain": [
       "<Figure size 1500x500 with 1 Axes>"
      ]
     },
     "metadata": {},
     "output_type": "display_data"
    },
    {
     "data": {
      "image/png": "[encoded data removed]",
      "text/plain": [
       "<Figure size 1500x500 with 1 Axes>"
      ]
     },
     "metadata": {},
     "output_type": "display_data"
    },
    {
     "data": {
      "image/png": "[encoded data removed]",
      "text/plain": [
       "<Figure size 1500x500 with 1 Axes>"
      ]
     },
     "metadata": {},
     "output_type": "display_data"
    }
   ],
   "source": [
    "plt.figure(figsize=(15,5))\n",
    "plt.xticks(rotation=70)\n",
    "sns.barplot(x=top_grouped_certificate.values,y=top_grouped_certificate.index,palette='viridis')\n",
    "\n",
    "plt.figure(figsize=(15,5))\n",
    "sns.barplot(x=top_certificate_mean_rating.values, y=top_certificate_mean_rating.index,palette='viridis')\n",
    "\n",
    "plt.figure(figsize=(15,5))\n",
    "sns.barplot(x=top_certificate_mean_duration.values, y=top_certificate_mean_rating.index,palette='viridis')\n",
    "plt.xlabel('duration in minutes')\n",
    "plt.show()"
   ]
  },
  {
   "cell_type": "markdown",
   "id": "09d45ec7",
   "metadata": {
    "papermill": {
     "duration": 0.015026,
     "end_time": "2024-05-22T00:38:53.510820",
     "exception": false,
     "start_time": "2024-05-22T00:38:53.495794",
     "status": "completed"
    },
    "tags": []
   },
   "source": [
    "# Checking directors"
   ]
  },
  {
   "cell_type": "code",
   "execution_count": 18,
   "id": "14514880",
   "metadata": {
    "execution": {
     "iopub.execute_input": "2024-05-22T00:38:53.544242Z",
     "iopub.status.busy": "2024-05-22T00:38:53.543202Z",
     "iopub.status.idle": "2024-05-22T00:38:53.566524Z",
     "shell.execute_reply": "2024-05-22T00:38:53.565257Z"
    },
    "papermill": {
     "duration": 0.043178,
     "end_time": "2024-05-22T00:38:53.569296",
     "exception": false,
     "start_time": "2024-05-22T00:38:53.526118",
     "status": "completed"
    },
    "tags": []
   },
   "outputs": [
    {
     "data": {
      "text/html": [
       "<div>\n",
       "<style scoped>\n",
       "    .dataframe tbody tr th:only-of-type {\n",
       "        vertical-align: middle;\n",
       "    }\n",
       "\n",
       "    .dataframe tbody tr th {\n",
       "        vertical-align: top;\n",
       "    }\n",
       "\n",
       "    .dataframe thead th {\n",
       "        text-align: right;\n",
       "    }\n",
       "</style>\n",
       "<table border=\"1\" class=\"dataframe\">\n",
       "  <thead>\n",
       "    <tr style=\"text-align: right;\">\n",
       "      <th></th>\n",
       "      <th>title</th>\n",
       "      <th>year</th>\n",
       "      <th>certificate</th>\n",
       "      <th>duration_min</th>\n",
       "      <th>genre</th>\n",
       "      <th>rating</th>\n",
       "      <th>metascore</th>\n",
       "      <th>director</th>\n",
       "      <th>cast</th>\n",
       "      <th>votes</th>\n",
       "      <th>description</th>\n",
       "      <th>review_count</th>\n",
       "      <th>review_title</th>\n",
       "      <th>review</th>\n",
       "    </tr>\n",
       "  </thead>\n",
       "  <tbody>\n",
       "    <tr>\n",
       "      <th>0</th>\n",
       "      <td>The Idea of You</td>\n",
       "      <td>2023</td>\n",
       "      <td>r</td>\n",
       "      <td>115.0</td>\n",
       "      <td>Comedy, Drama, Romance</td>\n",
       "      <td>6.4</td>\n",
       "      <td>67.0</td>\n",
       "      <td>Michael Showalter</td>\n",
       "      <td>Anne Hathaway, Nicholas Galitzine, Ella Rubin,...</td>\n",
       "      <td>28,744</td>\n",
       "      <td>Solène, a 40-year-old single mom, begins an un...</td>\n",
       "      <td>166</td>\n",
       "      <td>Hypocrisy as an idea</td>\n",
       "      <td>This film, as well as the reaction to it, is a...</td>\n",
       "    </tr>\n",
       "    <tr>\n",
       "      <th>1</th>\n",
       "      <td>Kingdom of the Planet of the Apes</td>\n",
       "      <td>2023</td>\n",
       "      <td>pg-13</td>\n",
       "      <td>145.0</td>\n",
       "      <td>Action, Adventure, Sci-Fi</td>\n",
       "      <td>7.3</td>\n",
       "      <td>66.0</td>\n",
       "      <td>Wes Ball</td>\n",
       "      <td>Owen Teague, Freya Allan, Kevin Durand, Peter ...</td>\n",
       "      <td>22,248</td>\n",
       "      <td>Many years after the reign of Caesar, a young ...</td>\n",
       "      <td>183</td>\n",
       "      <td>A phenomenal start to another trilogy!</td>\n",
       "      <td>I'm a big fan of all the planet of the apes, a...</td>\n",
       "    </tr>\n",
       "    <tr>\n",
       "      <th>2</th>\n",
       "      <td>Unfrosted</td>\n",
       "      <td>2023</td>\n",
       "      <td>pg-13</td>\n",
       "      <td>97.0</td>\n",
       "      <td>Biography, Comedy, History</td>\n",
       "      <td>5.5</td>\n",
       "      <td>42.0</td>\n",
       "      <td>Jerry Seinfeld</td>\n",
       "      <td>Isaac Bae, Jerry Seinfeld, Chris Rickett, Rach...</td>\n",
       "      <td>18,401</td>\n",
       "      <td>In 1963 Michigan, business rivals Kellogg's an...</td>\n",
       "      <td>333</td>\n",
       "      <td>not funny</td>\n",
       "      <td>Pretty much the worst criticism you can lay on...</td>\n",
       "    </tr>\n",
       "    <tr>\n",
       "      <th>3</th>\n",
       "      <td>The Fall Guy</td>\n",
       "      <td>2023</td>\n",
       "      <td>pg-13</td>\n",
       "      <td>126.0</td>\n",
       "      <td>Action, Comedy, Drama</td>\n",
       "      <td>7.3</td>\n",
       "      <td>73.0</td>\n",
       "      <td>David Leitch</td>\n",
       "      <td>Ryan Gosling, Emily Blunt, Aaron Taylor-Johnso...</td>\n",
       "      <td>38,953</td>\n",
       "      <td>A down-and-out stuntman must find the missing ...</td>\n",
       "      <td>384</td>\n",
       "      <td>Everything you needed and more!</td>\n",
       "      <td>Just got out of the Austin premier at SXSW and...</td>\n",
       "    </tr>\n",
       "    <tr>\n",
       "      <th>4</th>\n",
       "      <td>Challengers</td>\n",
       "      <td>2023</td>\n",
       "      <td>r</td>\n",
       "      <td>131.0</td>\n",
       "      <td>Drama, Romance, Sport</td>\n",
       "      <td>7.7</td>\n",
       "      <td>82.0</td>\n",
       "      <td>Luca Guadagnino</td>\n",
       "      <td>Zendaya, Mike Faist, Josh O'Connor, Darnell Ap...</td>\n",
       "      <td>32,517</td>\n",
       "      <td>Tashi, a former tennis prodigy turned coach, t...</td>\n",
       "      <td>194</td>\n",
       "      <td>Watch \"Match Point\" instead</td>\n",
       "      <td>This is a tough one. I liked the concept and t...</td>\n",
       "    </tr>\n",
       "  </tbody>\n",
       "</table>\n",
       "</div>"
      ],
      "text/plain": [
       "                               title  year certificate  duration_min  \\\n",
       "0                    The Idea of You  2023           r         115.0   \n",
       "1  Kingdom of the Planet of the Apes  2023       pg-13         145.0   \n",
       "2                          Unfrosted  2023       pg-13          97.0   \n",
       "3                       The Fall Guy  2023       pg-13         126.0   \n",
       "4                        Challengers  2023           r         131.0   \n",
       "\n",
       "                        genre  rating  metascore           director  \\\n",
       "0      Comedy, Drama, Romance     6.4       67.0  Michael Showalter   \n",
       "1   Action, Adventure, Sci-Fi     7.3       66.0           Wes Ball   \n",
       "2  Biography, Comedy, History     5.5       42.0     Jerry Seinfeld   \n",
       "3       Action, Comedy, Drama     7.3       73.0       David Leitch   \n",
       "4       Drama, Romance, Sport     7.7       82.0    Luca Guadagnino   \n",
       "\n",
       "                                                cast   votes  \\\n",
       "0  Anne Hathaway, Nicholas Galitzine, Ella Rubin,...  28,744   \n",
       "1  Owen Teague, Freya Allan, Kevin Durand, Peter ...  22,248   \n",
       "2  Isaac Bae, Jerry Seinfeld, Chris Rickett, Rach...  18,401   \n",
       "3  Ryan Gosling, Emily Blunt, Aaron Taylor-Johnso...  38,953   \n",
       "4  Zendaya, Mike Faist, Josh O'Connor, Darnell Ap...  32,517   \n",
       "\n",
       "                                         description review_count  \\\n",
       "0  Solène, a 40-year-old single mom, begins an un...          166   \n",
       "1  Many years after the reign of Caesar, a young ...          183   \n",
       "2  In 1963 Michigan, business rivals Kellogg's an...          333   \n",
       "3  A down-and-out stuntman must find the missing ...          384   \n",
       "4  Tashi, a former tennis prodigy turned coach, t...          194   \n",
       "\n",
       "                             review_title  \\\n",
       "0                    Hypocrisy as an idea   \n",
       "1  A phenomenal start to another trilogy!   \n",
       "2                               not funny   \n",
       "3         Everything you needed and more!   \n",
       "4             Watch \"Match Point\" instead   \n",
       "\n",
       "                                              review  \n",
       "0  This film, as well as the reaction to it, is a...  \n",
       "1  I'm a big fan of all the planet of the apes, a...  \n",
       "2  Pretty much the worst criticism you can lay on...  \n",
       "3  Just got out of the Austin premier at SXSW and...  \n",
       "4  This is a tough one. I liked the concept and t...  "
      ]
     },
     "execution_count": 18,
     "metadata": {},
     "output_type": "execute_result"
    }
   ],
   "source": [
    "df1.head()"
   ]
  },
  {
   "cell_type": "code",
   "execution_count": 19,
   "id": "3723c361",
   "metadata": {
    "execution": {
     "iopub.execute_input": "2024-05-22T00:38:53.602899Z",
     "iopub.status.busy": "2024-05-22T00:38:53.602443Z",
     "iopub.status.idle": "2024-05-22T00:38:53.612920Z",
     "shell.execute_reply": "2024-05-22T00:38:53.611643Z"
    },
    "papermill": {
     "duration": 0.030082,
     "end_time": "2024-05-22T00:38:53.615305",
     "exception": false,
     "start_time": "2024-05-22T00:38:53.585223",
     "status": "completed"
    },
    "tags": []
   },
   "outputs": [],
   "source": [
    "df1.loc[:, 'director'] = df1['director'].str.lower()"
   ]
  },
  {
   "cell_type": "code",
   "execution_count": 20,
   "id": "fec5a5c8",
   "metadata": {
    "execution": {
     "iopub.execute_input": "2024-05-22T00:38:53.649269Z",
     "iopub.status.busy": "2024-05-22T00:38:53.648752Z",
     "iopub.status.idle": "2024-05-22T00:38:53.662964Z",
     "shell.execute_reply": "2024-05-22T00:38:53.661148Z"
    },
    "papermill": {
     "duration": 0.034217,
     "end_time": "2024-05-22T00:38:53.665503",
     "exception": false,
     "start_time": "2024-05-22T00:38:53.631286",
     "status": "completed"
    },
    "tags": []
   },
   "outputs": [
    {
     "name": "stdout",
     "output_type": "stream",
     "text": [
      "<class 'pandas.core.series.Series'>\n",
      "RangeIndex: 10000 entries, 0 to 9999\n",
      "Series name: director\n",
      "Non-Null Count  Dtype \n",
      "--------------  ----- \n",
      "9995 non-null   object\n",
      "dtypes: object(1)\n",
      "memory usage: 78.2+ KB\n"
     ]
    }
   ],
   "source": [
    "df1.director.info()"
   ]
  },
  {
   "cell_type": "code",
   "execution_count": 21,
   "id": "8b807421",
   "metadata": {
    "execution": {
     "iopub.execute_input": "2024-05-22T00:38:53.699421Z",
     "iopub.status.busy": "2024-05-22T00:38:53.698944Z",
     "iopub.status.idle": "2024-05-22T00:38:53.717703Z",
     "shell.execute_reply": "2024-05-22T00:38:53.716514Z"
    },
    "papermill": {
     "duration": 0.039338,
     "end_time": "2024-05-22T00:38:53.720756",
     "exception": false,
     "start_time": "2024-05-22T00:38:53.681418",
     "status": "completed"
    },
    "tags": []
   },
   "outputs": [],
   "source": [
    "top_metascore_directors = df1.groupby('director')['metascore'].mean().sort_values(ascending=False).head(15)"
   ]
  },
  {
   "cell_type": "code",
   "execution_count": 22,
   "id": "acb3ba2a",
   "metadata": {
    "execution": {
     "iopub.execute_input": "2024-05-22T00:38:53.754788Z",
     "iopub.status.busy": "2024-05-22T00:38:53.754375Z",
     "iopub.status.idle": "2024-05-22T00:38:54.214262Z",
     "shell.execute_reply": "2024-05-22T00:38:54.213242Z"
    },
    "papermill": {
     "duration": 0.480045,
     "end_time": "2024-05-22T00:38:54.216910",
     "exception": false,
     "start_time": "2024-05-22T00:38:53.736865",
     "status": "completed"
    },
    "tags": []
   },
   "outputs": [
    {
     "data": {
      "image/png": "[encoded data removed]",
      "text/plain": [
       "<Figure size 1500x500 with 1 Axes>"
      ]
     },
     "metadata": {},
     "output_type": "display_data"
    }
   ],
   "source": [
    "plt.figure(figsize=(15,5))\n",
    "sns.barplot(x=top_metascore_directors.values, y=top_metascore_directors.index,palette='viridis')\n",
    "plt.show()"
   ]
  },
  {
   "cell_type": "code",
   "execution_count": 23,
   "id": "6a228392",
   "metadata": {
    "execution": {
     "iopub.execute_input": "2024-05-22T00:38:54.254025Z",
     "iopub.status.busy": "2024-05-22T00:38:54.252867Z",
     "iopub.status.idle": "2024-05-22T00:38:54.274368Z",
     "shell.execute_reply": "2024-05-22T00:38:54.273100Z"
    },
    "papermill": {
     "duration": 0.042491,
     "end_time": "2024-05-22T00:38:54.276973",
     "exception": false,
     "start_time": "2024-05-22T00:38:54.234482",
     "status": "completed"
    },
    "tags": []
   },
   "outputs": [
    {
     "data": {
      "text/html": [
       "<div>\n",
       "<style scoped>\n",
       "    .dataframe tbody tr th:only-of-type {\n",
       "        vertical-align: middle;\n",
       "    }\n",
       "\n",
       "    .dataframe tbody tr th {\n",
       "        vertical-align: top;\n",
       "    }\n",
       "\n",
       "    .dataframe thead th {\n",
       "        text-align: right;\n",
       "    }\n",
       "</style>\n",
       "<table border=\"1\" class=\"dataframe\">\n",
       "  <thead>\n",
       "    <tr style=\"text-align: right;\">\n",
       "      <th></th>\n",
       "      <th>title</th>\n",
       "      <th>year</th>\n",
       "      <th>certificate</th>\n",
       "      <th>duration_min</th>\n",
       "      <th>genre</th>\n",
       "      <th>rating</th>\n",
       "      <th>metascore</th>\n",
       "      <th>director</th>\n",
       "      <th>cast</th>\n",
       "      <th>votes</th>\n",
       "      <th>description</th>\n",
       "      <th>review_count</th>\n",
       "      <th>review_title</th>\n",
       "      <th>review</th>\n",
       "    </tr>\n",
       "  </thead>\n",
       "  <tbody>\n",
       "    <tr>\n",
       "      <th>6119</th>\n",
       "      <td>Tôkyô monogatari</td>\n",
       "      <td>2018</td>\n",
       "      <td>u</td>\n",
       "      <td>136.0</td>\n",
       "      <td>Drama</td>\n",
       "      <td>8.1</td>\n",
       "      <td>100.0</td>\n",
       "      <td>yasujirô ozu</td>\n",
       "      <td>Chishû Ryû, Chieko Higashiyama, Sô Yamamura, S...</td>\n",
       "      <td>68,797</td>\n",
       "      <td>An old couple visit their children and grandch...</td>\n",
       "      <td>169</td>\n",
       "      <td>Ozu's Quietly Brilliant Masterpiece Deserves Y...</td>\n",
       "      <td>I think this movie is amazing for reasons I wa...</td>\n",
       "    </tr>\n",
       "  </tbody>\n",
       "</table>\n",
       "</div>"
      ],
      "text/plain": [
       "                 title  year certificate  duration_min  genre  rating  \\\n",
       "6119  Tôkyô monogatari  2018           u         136.0  Drama     8.1   \n",
       "\n",
       "      metascore      director  \\\n",
       "6119      100.0  yasujirô ozu   \n",
       "\n",
       "                                                   cast   votes  \\\n",
       "6119  Chishû Ryû, Chieko Higashiyama, Sô Yamamura, S...  68,797   \n",
       "\n",
       "                                            description review_count  \\\n",
       "6119  An old couple visit their children and grandch...          169   \n",
       "\n",
       "                                           review_title  \\\n",
       "6119  Ozu's Quietly Brilliant Masterpiece Deserves Y...   \n",
       "\n",
       "                                                 review  \n",
       "6119  I think this movie is amazing for reasons I wa...  "
      ]
     },
     "execution_count": 23,
     "metadata": {},
     "output_type": "execute_result"
    }
   ],
   "source": [
    "df[df['director']== 'yasujirô ozu']"
   ]
  },
  {
   "cell_type": "code",
   "execution_count": 24,
   "id": "dbcd252e",
   "metadata": {
    "execution": {
     "iopub.execute_input": "2024-05-22T00:38:54.313653Z",
     "iopub.status.busy": "2024-05-22T00:38:54.313020Z",
     "iopub.status.idle": "2024-05-22T00:38:54.331560Z",
     "shell.execute_reply": "2024-05-22T00:38:54.330404Z"
    },
    "papermill": {
     "duration": 0.039596,
     "end_time": "2024-05-22T00:38:54.334025",
     "exception": false,
     "start_time": "2024-05-22T00:38:54.294429",
     "status": "completed"
    },
    "tags": []
   },
   "outputs": [
    {
     "data": {
      "text/plain": [
       "director\n",
       "clint eastwood          35\n",
       "steven spielberg        33\n",
       "ridley scott            28\n",
       "steven soderbergh       26\n",
       "martin scorsese         26\n",
       "ron howard              26\n",
       "alfred hitchcock        24\n",
       "woody allen             22\n",
       "robert zemeckis         21\n",
       "francis ford coppola    20\n",
       "renny harlin            20\n",
       "tim burton              20\n",
       "david cronenberg        19\n",
       "guy ritchie             18\n",
       "roman polanski          18\n",
       "brian de palma          18\n",
       "barry levinson          17\n",
       "john carpenter          17\n",
       "robert rodriguez        17\n",
       "tony scott              16\n",
       "dtype: int64"
      ]
     },
     "execution_count": 24,
     "metadata": {},
     "output_type": "execute_result"
    }
   ],
   "source": [
    "df1.groupby('director').size().sort_values(ascending=False).head(20)"
   ]
  },
  {
   "cell_type": "code",
   "execution_count": 25,
   "id": "aaa272f9",
   "metadata": {
    "execution": {
     "iopub.execute_input": "2024-05-22T00:38:54.370613Z",
     "iopub.status.busy": "2024-05-22T00:38:54.370210Z",
     "iopub.status.idle": "2024-05-22T00:38:54.397207Z",
     "shell.execute_reply": "2024-05-22T00:38:54.395850Z"
    },
    "papermill": {
     "duration": 0.048097,
     "end_time": "2024-05-22T00:38:54.399838",
     "exception": false,
     "start_time": "2024-05-22T00:38:54.351741",
     "status": "completed"
    },
    "tags": []
   },
   "outputs": [
    {
     "data": {
      "text/html": [
       "<div>\n",
       "<style scoped>\n",
       "    .dataframe tbody tr th:only-of-type {\n",
       "        vertical-align: middle;\n",
       "    }\n",
       "\n",
       "    .dataframe tbody tr th {\n",
       "        vertical-align: top;\n",
       "    }\n",
       "\n",
       "    .dataframe thead th {\n",
       "        text-align: right;\n",
       "    }\n",
       "</style>\n",
       "<table border=\"1\" class=\"dataframe\">\n",
       "  <thead>\n",
       "    <tr style=\"text-align: right;\">\n",
       "      <th></th>\n",
       "      <th>title</th>\n",
       "      <th>year</th>\n",
       "      <th>certificate</th>\n",
       "      <th>duration_min</th>\n",
       "      <th>genre</th>\n",
       "      <th>rating</th>\n",
       "      <th>metascore</th>\n",
       "      <th>director</th>\n",
       "      <th>cast</th>\n",
       "      <th>votes</th>\n",
       "      <th>description</th>\n",
       "      <th>review_count</th>\n",
       "      <th>review_title</th>\n",
       "      <th>review</th>\n",
       "    </tr>\n",
       "  </thead>\n",
       "  <tbody>\n",
       "    <tr>\n",
       "      <th>0</th>\n",
       "      <td>The Idea of You</td>\n",
       "      <td>2023</td>\n",
       "      <td>r</td>\n",
       "      <td>115.0</td>\n",
       "      <td>Comedy, Drama, Romance</td>\n",
       "      <td>6.4</td>\n",
       "      <td>67.0</td>\n",
       "      <td>michael showalter</td>\n",
       "      <td>Anne Hathaway, Nicholas Galitzine, Ella Rubin,...</td>\n",
       "      <td>28,744</td>\n",
       "      <td>Solène, a 40-year-old single mom, begins an un...</td>\n",
       "      <td>166</td>\n",
       "      <td>Hypocrisy as an idea</td>\n",
       "      <td>This film, as well as the reaction to it, is a...</td>\n",
       "    </tr>\n",
       "    <tr>\n",
       "      <th>1</th>\n",
       "      <td>Kingdom of the Planet of the Apes</td>\n",
       "      <td>2023</td>\n",
       "      <td>pg-13</td>\n",
       "      <td>145.0</td>\n",
       "      <td>Action, Adventure, Sci-Fi</td>\n",
       "      <td>7.3</td>\n",
       "      <td>66.0</td>\n",
       "      <td>wes ball</td>\n",
       "      <td>Owen Teague, Freya Allan, Kevin Durand, Peter ...</td>\n",
       "      <td>22,248</td>\n",
       "      <td>Many years after the reign of Caesar, a young ...</td>\n",
       "      <td>183</td>\n",
       "      <td>A phenomenal start to another trilogy!</td>\n",
       "      <td>I'm a big fan of all the planet of the apes, a...</td>\n",
       "    </tr>\n",
       "    <tr>\n",
       "      <th>2</th>\n",
       "      <td>Unfrosted</td>\n",
       "      <td>2023</td>\n",
       "      <td>pg-13</td>\n",
       "      <td>97.0</td>\n",
       "      <td>Biography, Comedy, History</td>\n",
       "      <td>5.5</td>\n",
       "      <td>42.0</td>\n",
       "      <td>jerry seinfeld</td>\n",
       "      <td>Isaac Bae, Jerry Seinfeld, Chris Rickett, Rach...</td>\n",
       "      <td>18,401</td>\n",
       "      <td>In 1963 Michigan, business rivals Kellogg's an...</td>\n",
       "      <td>333</td>\n",
       "      <td>not funny</td>\n",
       "      <td>Pretty much the worst criticism you can lay on...</td>\n",
       "    </tr>\n",
       "    <tr>\n",
       "      <th>3</th>\n",
       "      <td>The Fall Guy</td>\n",
       "      <td>2023</td>\n",
       "      <td>pg-13</td>\n",
       "      <td>126.0</td>\n",
       "      <td>Action, Comedy, Drama</td>\n",
       "      <td>7.3</td>\n",
       "      <td>73.0</td>\n",
       "      <td>david leitch</td>\n",
       "      <td>Ryan Gosling, Emily Blunt, Aaron Taylor-Johnso...</td>\n",
       "      <td>38,953</td>\n",
       "      <td>A down-and-out stuntman must find the missing ...</td>\n",
       "      <td>384</td>\n",
       "      <td>Everything you needed and more!</td>\n",
       "      <td>Just got out of the Austin premier at SXSW and...</td>\n",
       "    </tr>\n",
       "    <tr>\n",
       "      <th>4</th>\n",
       "      <td>Challengers</td>\n",
       "      <td>2023</td>\n",
       "      <td>r</td>\n",
       "      <td>131.0</td>\n",
       "      <td>Drama, Romance, Sport</td>\n",
       "      <td>7.7</td>\n",
       "      <td>82.0</td>\n",
       "      <td>luca guadagnino</td>\n",
       "      <td>Zendaya, Mike Faist, Josh O'Connor, Darnell Ap...</td>\n",
       "      <td>32,517</td>\n",
       "      <td>Tashi, a former tennis prodigy turned coach, t...</td>\n",
       "      <td>194</td>\n",
       "      <td>Watch \"Match Point\" instead</td>\n",
       "      <td>This is a tough one. I liked the concept and t...</td>\n",
       "    </tr>\n",
       "    <tr>\n",
       "      <th>...</th>\n",
       "      <td>...</td>\n",
       "      <td>...</td>\n",
       "      <td>...</td>\n",
       "      <td>...</td>\n",
       "      <td>...</td>\n",
       "      <td>...</td>\n",
       "      <td>...</td>\n",
       "      <td>...</td>\n",
       "      <td>...</td>\n",
       "      <td>...</td>\n",
       "      <td>...</td>\n",
       "      <td>...</td>\n",
       "      <td>...</td>\n",
       "      <td>...</td>\n",
       "    </tr>\n",
       "    <tr>\n",
       "      <th>9995</th>\n",
       "      <td>The Greatest Show on Earth</td>\n",
       "      <td>2020</td>\n",
       "      <td>u</td>\n",
       "      <td>152.0</td>\n",
       "      <td>Drama, Family, Romance</td>\n",
       "      <td>6.5</td>\n",
       "      <td>76.0</td>\n",
       "      <td>cecil b. demille</td>\n",
       "      <td>James Stewart, Charlton Heston, Betty Hutton, ...</td>\n",
       "      <td>16,078</td>\n",
       "      <td>The dramatic lives of trapeze artists, a clown...</td>\n",
       "      <td>128</td>\n",
       "      <td>Hey, doesn't anyone remember Last Emperor?</td>\n",
       "      <td>It constantly amazes me that people carp that ...</td>\n",
       "    </tr>\n",
       "    <tr>\n",
       "      <th>9996</th>\n",
       "      <td>Berserk: Ougon Jidai-hen I - Haou no Tamago</td>\n",
       "      <td>2020</td>\n",
       "      <td>NaN</td>\n",
       "      <td>76.0</td>\n",
       "      <td>Animation, Action, Adventure</td>\n",
       "      <td>7.5</td>\n",
       "      <td>58.0</td>\n",
       "      <td>toshiyuki kubooka</td>\n",
       "      <td>Hiroaki Iwanaga, Carrie Keranen, Takahiro Saku...</td>\n",
       "      <td>14,300</td>\n",
       "      <td>A lone sellsword named Guts gets recruited int...</td>\n",
       "      <td>12</td>\n",
       "      <td>Masterfully directed climatic epic saga</td>\n",
       "      <td>Few stories can capture your mind and soul in ...</td>\n",
       "    </tr>\n",
       "    <tr>\n",
       "      <th>9997</th>\n",
       "      <td>Is-slottet</td>\n",
       "      <td>2020</td>\n",
       "      <td>NaN</td>\n",
       "      <td>78.0</td>\n",
       "      <td>Mystery, Drama</td>\n",
       "      <td>6.5</td>\n",
       "      <td>58.0</td>\n",
       "      <td>per blom</td>\n",
       "      <td>Line Storesund, Hilde Nyeggen Martinsen, Meret...</td>\n",
       "      <td>740</td>\n",
       "      <td>A couple of twelve-year-old Norwegian girls st...</td>\n",
       "      <td>4</td>\n",
       "      <td>Beautiful Film</td>\n",
       "      <td>This film might not be to everyone's taste, it...</td>\n",
       "    </tr>\n",
       "    <tr>\n",
       "      <th>9998</th>\n",
       "      <td>Loving Pablo</td>\n",
       "      <td>2020</td>\n",
       "      <td>a</td>\n",
       "      <td>123.0</td>\n",
       "      <td>Biography, Crime, Drama</td>\n",
       "      <td>6.4</td>\n",
       "      <td>42.0</td>\n",
       "      <td>fernando león de aranoa</td>\n",
       "      <td>Javier Bardem, Penélope Cruz, Peter Sarsgaard,...</td>\n",
       "      <td>22,447</td>\n",
       "      <td>A journalist strikes up a romantic relationshi...</td>\n",
       "      <td>84</td>\n",
       "      <td>That film should be in Spanish</td>\n",
       "      <td>Why anyone (the director?) made Spanish actors...</td>\n",
       "    </tr>\n",
       "    <tr>\n",
       "      <th>9999</th>\n",
       "      <td>Un homme et une femme</td>\n",
       "      <td>2020</td>\n",
       "      <td>NaN</td>\n",
       "      <td>102.0</td>\n",
       "      <td>Drama, Romance</td>\n",
       "      <td>7.5</td>\n",
       "      <td>58.0</td>\n",
       "      <td>claude lelouch</td>\n",
       "      <td>Anouk Aimée, Jean-Louis Trintignant, Pierre Ba...</td>\n",
       "      <td>11,826</td>\n",
       "      <td>A widow and a widower find their relationship ...</td>\n",
       "      <td>61</td>\n",
       "      <td>Moved me tremendously.</td>\n",
       "      <td>This is a movie that resonated to my core.  I ...</td>\n",
       "    </tr>\n",
       "  </tbody>\n",
       "</table>\n",
       "<p>10000 rows × 14 columns</p>\n",
       "</div>"
      ],
      "text/plain": [
       "                                            title  year certificate  \\\n",
       "0                                 The Idea of You  2023           r   \n",
       "1               Kingdom of the Planet of the Apes  2023       pg-13   \n",
       "2                                       Unfrosted  2023       pg-13   \n",
       "3                                    The Fall Guy  2023       pg-13   \n",
       "4                                     Challengers  2023           r   \n",
       "...                                           ...   ...         ...   \n",
       "9995                   The Greatest Show on Earth  2020           u   \n",
       "9996  Berserk: Ougon Jidai-hen I - Haou no Tamago  2020         NaN   \n",
       "9997                                   Is-slottet  2020         NaN   \n",
       "9998                                 Loving Pablo  2020           a   \n",
       "9999                        Un homme et une femme  2020         NaN   \n",
       "\n",
       "      duration_min                         genre  rating  metascore  \\\n",
       "0            115.0        Comedy, Drama, Romance     6.4       67.0   \n",
       "1            145.0     Action, Adventure, Sci-Fi     7.3       66.0   \n",
       "2             97.0    Biography, Comedy, History     5.5       42.0   \n",
       "3            126.0         Action, Comedy, Drama     7.3       73.0   \n",
       "4            131.0         Drama, Romance, Sport     7.7       82.0   \n",
       "...            ...                           ...     ...        ...   \n",
       "9995         152.0        Drama, Family, Romance     6.5       76.0   \n",
       "9996          76.0  Animation, Action, Adventure     7.5       58.0   \n",
       "9997          78.0                Mystery, Drama     6.5       58.0   \n",
       "9998         123.0       Biography, Crime, Drama     6.4       42.0   \n",
       "9999         102.0                Drama, Romance     7.5       58.0   \n",
       "\n",
       "                     director  \\\n",
       "0           michael showalter   \n",
       "1                    wes ball   \n",
       "2              jerry seinfeld   \n",
       "3                david leitch   \n",
       "4             luca guadagnino   \n",
       "...                       ...   \n",
       "9995         cecil b. demille   \n",
       "9996        toshiyuki kubooka   \n",
       "9997                 per blom   \n",
       "9998  fernando león de aranoa   \n",
       "9999           claude lelouch   \n",
       "\n",
       "                                                   cast   votes  \\\n",
       "0     Anne Hathaway, Nicholas Galitzine, Ella Rubin,...  28,744   \n",
       "1     Owen Teague, Freya Allan, Kevin Durand, Peter ...  22,248   \n",
       "2     Isaac Bae, Jerry Seinfeld, Chris Rickett, Rach...  18,401   \n",
       "3     Ryan Gosling, Emily Blunt, Aaron Taylor-Johnso...  38,953   \n",
       "4     Zendaya, Mike Faist, Josh O'Connor, Darnell Ap...  32,517   \n",
       "...                                                 ...     ...   \n",
       "9995  James Stewart, Charlton Heston, Betty Hutton, ...  16,078   \n",
       "9996  Hiroaki Iwanaga, Carrie Keranen, Takahiro Saku...  14,300   \n",
       "9997  Line Storesund, Hilde Nyeggen Martinsen, Meret...     740   \n",
       "9998  Javier Bardem, Penélope Cruz, Peter Sarsgaard,...  22,447   \n",
       "9999  Anouk Aimée, Jean-Louis Trintignant, Pierre Ba...  11,826   \n",
       "\n",
       "                                            description review_count  \\\n",
       "0     Solène, a 40-year-old single mom, begins an un...          166   \n",
       "1     Many years after the reign of Caesar, a young ...          183   \n",
       "2     In 1963 Michigan, business rivals Kellogg's an...          333   \n",
       "3     A down-and-out stuntman must find the missing ...          384   \n",
       "4     Tashi, a former tennis prodigy turned coach, t...          194   \n",
       "...                                                 ...          ...   \n",
       "9995  The dramatic lives of trapeze artists, a clown...          128   \n",
       "9996  A lone sellsword named Guts gets recruited int...           12   \n",
       "9997  A couple of twelve-year-old Norwegian girls st...            4   \n",
       "9998  A journalist strikes up a romantic relationshi...           84   \n",
       "9999  A widow and a widower find their relationship ...           61   \n",
       "\n",
       "                                    review_title  \\\n",
       "0                           Hypocrisy as an idea   \n",
       "1         A phenomenal start to another trilogy!   \n",
       "2                                      not funny   \n",
       "3                Everything you needed and more!   \n",
       "4                    Watch \"Match Point\" instead   \n",
       "...                                          ...   \n",
       "9995  Hey, doesn't anyone remember Last Emperor?   \n",
       "9996     Masterfully directed climatic epic saga   \n",
       "9997                              Beautiful Film   \n",
       "9998              That film should be in Spanish   \n",
       "9999                      Moved me tremendously.   \n",
       "\n",
       "                                                 review  \n",
       "0     This film, as well as the reaction to it, is a...  \n",
       "1     I'm a big fan of all the planet of the apes, a...  \n",
       "2     Pretty much the worst criticism you can lay on...  \n",
       "3     Just got out of the Austin premier at SXSW and...  \n",
       "4     This is a tough one. I liked the concept and t...  \n",
       "...                                                 ...  \n",
       "9995  It constantly amazes me that people carp that ...  \n",
       "9996  Few stories can capture your mind and soul in ...  \n",
       "9997  This film might not be to everyone's taste, it...  \n",
       "9998  Why anyone (the director?) made Spanish actors...  \n",
       "9999  This is a movie that resonated to my core.  I ...  \n",
       "\n",
       "[10000 rows x 14 columns]"
      ]
     },
     "execution_count": 25,
     "metadata": {},
     "output_type": "execute_result"
    }
   ],
   "source": [
    "df1"
   ]
  }
 ],
 "metadata": {
  "kaggle": {
   "accelerator": "none",
   "dataSources": [
    {
     "datasetId": 5018668,
     "sourceId": 8433891,
     "sourceType": "datasetVersion"
    }
   ],
   "dockerImageVersionId": 30698,
   "isGpuEnabled": false,
   "isInternetEnabled": true,
   "language": "python",
   "sourceType": "notebook"
  },
  "kernelspec": {
   "display_name": "Python 3",
   "language": "python",
   "name": "python3"
  },
  "language_info": {
   "codemirror_mode": {
    "name": "ipython",
    "version": 3
   },
   "file_extension": ".py",
   "mimetype": "text/x-python",
   "name": "python",
   "nbconvert_exporter": "python",
   "pygments_lexer": "ipython3",
   "version": "3.10.13"
  },
  "papermill": {
   "default_parameters": {},
   "duration": 12.078277,
   "end_time": "2024-05-22T00:38:55.141586",
   "environment_variables": {},
   "exception": null,
   "input_path": "__notebook__.ipynb",
   "output_path": "__notebook__.ipynb",
   "parameters": {},
   "start_time": "2024-05-22T00:38:43.063309",
   "version": "2.5.0"
  }
 },
 "nbformat": 4,
 "nbformat_minor": 5
}
