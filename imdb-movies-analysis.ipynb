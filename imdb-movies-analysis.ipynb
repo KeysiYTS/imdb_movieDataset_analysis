{
 "cells": [
  {
   "cell_type": "code",
   "execution_count": 1,
   "id": "672c7a24",
   "metadata": {
    "_cell_guid": "b1076dfc-b9ad-4769-8c92-a6c4dae69d19",
    "_uuid": "8f2839f25d086af736a60e9eeb907d3b93b6e0e5",
    "execution": {
     "iopub.execute_input": "2024-05-21T01:39:15.748527Z",
     "iopub.status.busy": "2024-05-21T01:39:15.748081Z",
     "iopub.status.idle": "2024-05-21T01:39:15.770340Z",
     "shell.execute_reply": "2024-05-21T01:39:15.768710Z"
    },
    "papermill": {
     "duration": 0.034136,
     "end_time": "2024-05-21T01:39:15.773819",
     "exception": false,
     "start_time": "2024-05-21T01:39:15.739683",
     "status": "completed"
    },
    "tags": []
   },
   "outputs": [
    {
     "name": "stdout",
     "output_type": "stream",
     "text": [
      "/kaggle/input/imdb-movies-data/imdb-movies-dataset.csv\n"
     ]
    }
   ],
   "source": [
    "# This Python 3 environment comes with many helpful analytics libraries installed\n",
    "# It is defined by the kaggle/python Docker image: https://github.com/kaggle/docker-python\n",
    "# For example, here's several helpful packages to load\n",
    "# Input data files are available in the read-only \"../input/\" directory\n",
    "# For example, running this (by clicking run or pressing Shift+Enter) will list all files under the input directory\n",
    "\n",
    "import os\n",
    "file_list=[]\n",
    "for dirname, _, filenames in os.walk('/kaggle/input'):\n",
    "    for filename in filenames:\n",
    "        # I append to a list in case we have multiple files o convert into dfs \n",
    "        file_list.append(os.path.join(dirname, filename))\n",
    "        print(os.path.join(dirname, filename))\n",
    "\n",
    "# You can write up to 20GB to the current directory (/kaggle/working/) that gets preserved as output when you create a version using \"Save & Run All\" \n",
    "# You can also write temporary files to /kaggle/temp/, but they won't be saved outside of the current session"
   ]
  },
  {
   "cell_type": "markdown",
   "id": "28aae74e",
   "metadata": {
    "papermill": {
     "duration": 0.005949,
     "end_time": "2024-05-21T01:39:15.786436",
     "exception": false,
     "start_time": "2024-05-21T01:39:15.780487",
     "status": "completed"
    },
    "tags": []
   },
   "source": [
    "# Libs"
   ]
  },
  {
   "cell_type": "code",
   "execution_count": 2,
   "id": "fd701d42",
   "metadata": {
    "execution": {
     "iopub.execute_input": "2024-05-21T01:39:15.800661Z",
     "iopub.status.busy": "2024-05-21T01:39:15.800270Z",
     "iopub.status.idle": "2024-05-21T01:39:18.324104Z",
     "shell.execute_reply": "2024-05-21T01:39:18.322653Z"
    },
    "papermill": {
     "duration": 2.534642,
     "end_time": "2024-05-21T01:39:18.327309",
     "exception": false,
     "start_time": "2024-05-21T01:39:15.792667",
     "status": "completed"
    },
    "tags": []
   },
   "outputs": [],
   "source": [
    "import numpy as np # linear algebra\n",
    "import pandas as pd # data processing, CSV file I/O (e.g. pd.read_csv)\n",
    "import seaborn as sns\n",
    "import matplotlib.pyplot as plt"
   ]
  },
  {
   "cell_type": "markdown",
   "id": "29d4633a",
   "metadata": {
    "papermill": {
     "duration": 0.005833,
     "end_time": "2024-05-21T01:39:18.339497",
     "exception": false,
     "start_time": "2024-05-21T01:39:18.333664",
     "status": "completed"
    },
    "tags": []
   },
   "source": [
    "# Checking Data"
   ]
  },
  {
   "cell_type": "code",
   "execution_count": 3,
   "id": "a8012dc2",
   "metadata": {
    "execution": {
     "iopub.execute_input": "2024-05-21T01:39:18.354461Z",
     "iopub.status.busy": "2024-05-21T01:39:18.353360Z",
     "iopub.status.idle": "2024-05-21T01:39:18.937921Z",
     "shell.execute_reply": "2024-05-21T01:39:18.936715Z"
    },
    "papermill": {
     "duration": 0.594971,
     "end_time": "2024-05-21T01:39:18.940662",
     "exception": false,
     "start_time": "2024-05-21T01:39:18.345691",
     "status": "completed"
    },
    "tags": []
   },
   "outputs": [
    {
     "data": {
      "text/html": [
       "<div>\n",
       "<style scoped>\n",
       "    .dataframe tbody tr th:only-of-type {\n",
       "        vertical-align: middle;\n",
       "    }\n",
       "\n",
       "    .dataframe tbody tr th {\n",
       "        vertical-align: top;\n",
       "    }\n",
       "\n",
       "    .dataframe thead th {\n",
       "        text-align: right;\n",
       "    }\n",
       "</style>\n",
       "<table border=\"1\" class=\"dataframe\">\n",
       "  <thead>\n",
       "    <tr style=\"text-align: right;\">\n",
       "      <th></th>\n",
       "      <th>Poster</th>\n",
       "      <th>Title</th>\n",
       "      <th>Year</th>\n",
       "      <th>Certificate</th>\n",
       "      <th>Duration (min)</th>\n",
       "      <th>Genre</th>\n",
       "      <th>Rating</th>\n",
       "      <th>Metascore</th>\n",
       "      <th>Director</th>\n",
       "      <th>Cast</th>\n",
       "      <th>Votes</th>\n",
       "      <th>Description</th>\n",
       "      <th>Review Count</th>\n",
       "      <th>Review Title</th>\n",
       "      <th>Review</th>\n",
       "    </tr>\n",
       "  </thead>\n",
       "  <tbody>\n",
       "    <tr>\n",
       "      <th>0</th>\n",
       "      <td>https://m.media-amazon.com/images/M/MV5BYWRkZj...</td>\n",
       "      <td>The Idea of You</td>\n",
       "      <td>2023.0</td>\n",
       "      <td>R</td>\n",
       "      <td>115.0</td>\n",
       "      <td>Comedy, Drama, Romance</td>\n",
       "      <td>6.4</td>\n",
       "      <td>67.0</td>\n",
       "      <td>Michael Showalter</td>\n",
       "      <td>Anne Hathaway, Nicholas Galitzine, Ella Rubin,...</td>\n",
       "      <td>28,744</td>\n",
       "      <td>Solène, a 40-year-old single mom, begins an un...</td>\n",
       "      <td>166</td>\n",
       "      <td>Hypocrisy as an idea</td>\n",
       "      <td>This film, as well as the reaction to it, is a...</td>\n",
       "    </tr>\n",
       "    <tr>\n",
       "      <th>1</th>\n",
       "      <td>https://m.media-amazon.com/images/M/MV5BZGI4NT...</td>\n",
       "      <td>Kingdom of the Planet of the Apes</td>\n",
       "      <td>2023.0</td>\n",
       "      <td>PG-13</td>\n",
       "      <td>145.0</td>\n",
       "      <td>Action, Adventure, Sci-Fi</td>\n",
       "      <td>7.3</td>\n",
       "      <td>66.0</td>\n",
       "      <td>Wes Ball</td>\n",
       "      <td>Owen Teague, Freya Allan, Kevin Durand, Peter ...</td>\n",
       "      <td>22,248</td>\n",
       "      <td>Many years after the reign of Caesar, a young ...</td>\n",
       "      <td>183</td>\n",
       "      <td>A phenomenal start to another trilogy!</td>\n",
       "      <td>I'm a big fan of all the planet of the apes, a...</td>\n",
       "    </tr>\n",
       "    <tr>\n",
       "      <th>2</th>\n",
       "      <td>https://m.media-amazon.com/images/M/MV5BZjIyOT...</td>\n",
       "      <td>Unfrosted</td>\n",
       "      <td>2023.0</td>\n",
       "      <td>PG-13</td>\n",
       "      <td>97.0</td>\n",
       "      <td>Biography, Comedy, History</td>\n",
       "      <td>5.5</td>\n",
       "      <td>42.0</td>\n",
       "      <td>Jerry Seinfeld</td>\n",
       "      <td>Isaac Bae, Jerry Seinfeld, Chris Rickett, Rach...</td>\n",
       "      <td>18,401</td>\n",
       "      <td>In 1963 Michigan, business rivals Kellogg's an...</td>\n",
       "      <td>333</td>\n",
       "      <td>not funny</td>\n",
       "      <td>Pretty much the worst criticism you can lay on...</td>\n",
       "    </tr>\n",
       "    <tr>\n",
       "      <th>3</th>\n",
       "      <td>https://m.media-amazon.com/images/M/MV5BMjA5Zj...</td>\n",
       "      <td>The Fall Guy</td>\n",
       "      <td>2023.0</td>\n",
       "      <td>PG-13</td>\n",
       "      <td>126.0</td>\n",
       "      <td>Action, Comedy, Drama</td>\n",
       "      <td>7.3</td>\n",
       "      <td>73.0</td>\n",
       "      <td>David Leitch</td>\n",
       "      <td>Ryan Gosling, Emily Blunt, Aaron Taylor-Johnso...</td>\n",
       "      <td>38,953</td>\n",
       "      <td>A down-and-out stuntman must find the missing ...</td>\n",
       "      <td>384</td>\n",
       "      <td>Everything you needed and more!</td>\n",
       "      <td>Just got out of the Austin premier at SXSW and...</td>\n",
       "    </tr>\n",
       "    <tr>\n",
       "      <th>4</th>\n",
       "      <td>https://m.media-amazon.com/images/M/MV5BNTk1MT...</td>\n",
       "      <td>Challengers</td>\n",
       "      <td>2023.0</td>\n",
       "      <td>R</td>\n",
       "      <td>131.0</td>\n",
       "      <td>Drama, Romance, Sport</td>\n",
       "      <td>7.7</td>\n",
       "      <td>82.0</td>\n",
       "      <td>Luca Guadagnino</td>\n",
       "      <td>Zendaya, Mike Faist, Josh O'Connor, Darnell Ap...</td>\n",
       "      <td>32,517</td>\n",
       "      <td>Tashi, a former tennis prodigy turned coach, t...</td>\n",
       "      <td>194</td>\n",
       "      <td>Watch \"Match Point\" instead</td>\n",
       "      <td>This is a tough one. I liked the concept and t...</td>\n",
       "    </tr>\n",
       "  </tbody>\n",
       "</table>\n",
       "</div>"
      ],
      "text/plain": [
       "                                              Poster  \\\n",
       "0  https://m.media-amazon.com/images/M/MV5BYWRkZj...   \n",
       "1  https://m.media-amazon.com/images/M/MV5BZGI4NT...   \n",
       "2  https://m.media-amazon.com/images/M/MV5BZjIyOT...   \n",
       "3  https://m.media-amazon.com/images/M/MV5BMjA5Zj...   \n",
       "4  https://m.media-amazon.com/images/M/MV5BNTk1MT...   \n",
       "\n",
       "                               Title    Year Certificate  Duration (min)  \\\n",
       "0                    The Idea of You  2023.0           R           115.0   \n",
       "1  Kingdom of the Planet of the Apes  2023.0       PG-13           145.0   \n",
       "2                          Unfrosted  2023.0       PG-13            97.0   \n",
       "3                       The Fall Guy  2023.0       PG-13           126.0   \n",
       "4                        Challengers  2023.0           R           131.0   \n",
       "\n",
       "                        Genre  Rating  Metascore           Director  \\\n",
       "0      Comedy, Drama, Romance     6.4       67.0  Michael Showalter   \n",
       "1   Action, Adventure, Sci-Fi     7.3       66.0           Wes Ball   \n",
       "2  Biography, Comedy, History     5.5       42.0     Jerry Seinfeld   \n",
       "3       Action, Comedy, Drama     7.3       73.0       David Leitch   \n",
       "4       Drama, Romance, Sport     7.7       82.0    Luca Guadagnino   \n",
       "\n",
       "                                                Cast   Votes  \\\n",
       "0  Anne Hathaway, Nicholas Galitzine, Ella Rubin,...  28,744   \n",
       "1  Owen Teague, Freya Allan, Kevin Durand, Peter ...  22,248   \n",
       "2  Isaac Bae, Jerry Seinfeld, Chris Rickett, Rach...  18,401   \n",
       "3  Ryan Gosling, Emily Blunt, Aaron Taylor-Johnso...  38,953   \n",
       "4  Zendaya, Mike Faist, Josh O'Connor, Darnell Ap...  32,517   \n",
       "\n",
       "                                         Description Review Count  \\\n",
       "0  Solène, a 40-year-old single mom, begins an un...          166   \n",
       "1  Many years after the reign of Caesar, a young ...          183   \n",
       "2  In 1963 Michigan, business rivals Kellogg's an...          333   \n",
       "3  A down-and-out stuntman must find the missing ...          384   \n",
       "4  Tashi, a former tennis prodigy turned coach, t...          194   \n",
       "\n",
       "                             Review Title  \\\n",
       "0                    Hypocrisy as an idea   \n",
       "1  A phenomenal start to another trilogy!   \n",
       "2                               not funny   \n",
       "3         Everything you needed and more!   \n",
       "4             Watch \"Match Point\" instead   \n",
       "\n",
       "                                              Review  \n",
       "0  This film, as well as the reaction to it, is a...  \n",
       "1  I'm a big fan of all the planet of the apes, a...  \n",
       "2  Pretty much the worst criticism you can lay on...  \n",
       "3  Just got out of the Austin premier at SXSW and...  \n",
       "4  This is a tough one. I liked the concept and t...  "
      ]
     },
     "execution_count": 3,
     "metadata": {},
     "output_type": "execute_result"
    }
   ],
   "source": [
    "df = pd.read_csv(file_list[0])\n",
    "df.head()"
   ]
  },
  {
   "cell_type": "code",
   "execution_count": 4,
   "id": "cf05e5c4",
   "metadata": {
    "execution": {
     "iopub.execute_input": "2024-05-21T01:39:18.955792Z",
     "iopub.status.busy": "2024-05-21T01:39:18.955364Z",
     "iopub.status.idle": "2024-05-21T01:39:18.999418Z",
     "shell.execute_reply": "2024-05-21T01:39:18.997922Z"
    },
    "papermill": {
     "duration": 0.054976,
     "end_time": "2024-05-21T01:39:19.002360",
     "exception": false,
     "start_time": "2024-05-21T01:39:18.947384",
     "status": "completed"
    },
    "tags": []
   },
   "outputs": [
    {
     "name": "stdout",
     "output_type": "stream",
     "text": [
      "<class 'pandas.core.frame.DataFrame'>\n",
      "RangeIndex: 10000 entries, 0 to 9999\n",
      "Data columns (total 15 columns):\n",
      " #   Column        Non-Null Count  Dtype  \n",
      "---  ------        --------------  -----  \n",
      " 0   poster        10000 non-null  object \n",
      " 1   title         10000 non-null  object \n",
      " 2   year          9850 non-null   float64\n",
      " 3   certificate   7370 non-null   object \n",
      " 4   duration_min  9664 non-null   float64\n",
      " 5   genre         9993 non-null   object \n",
      " 6   rating        9596 non-null   float64\n",
      " 7   metascore     7555 non-null   float64\n",
      " 8   director      9995 non-null   object \n",
      " 9   cast          9961 non-null   object \n",
      " 10  votes         9596 non-null   object \n",
      " 11  description   10000 non-null  object \n",
      " 12  review_count  9999 non-null   object \n",
      " 13  review_title  9483 non-null   object \n",
      " 14  review        9484 non-null   object \n",
      "dtypes: float64(4), object(11)\n",
      "memory usage: 1.1+ MB\n"
     ]
    }
   ],
   "source": [
    "df.columns = df.columns.str.lower()\n",
    "df.rename(mapper={'duration (min)':'duration_min',\n",
    "                 'review count':'review_count',\n",
    "                 'review title': 'review_title'}, \n",
    "          axis=1, inplace=True)\n",
    "df.info()"
   ]
  },
  {
   "cell_type": "code",
   "execution_count": 5,
   "id": "3f610cc1",
   "metadata": {
    "execution": {
     "iopub.execute_input": "2024-05-21T01:39:19.019608Z",
     "iopub.status.busy": "2024-05-21T01:39:19.018458Z",
     "iopub.status.idle": "2024-05-21T01:39:19.030561Z",
     "shell.execute_reply": "2024-05-21T01:39:19.029394Z"
    },
    "papermill": {
     "duration": 0.023964,
     "end_time": "2024-05-21T01:39:19.033515",
     "exception": false,
     "start_time": "2024-05-21T01:39:19.009551",
     "status": "completed"
    },
    "tags": []
   },
   "outputs": [],
   "source": [
    "df.drop(labels=['poster'],axis=1, inplace=True)"
   ]
  },
  {
   "cell_type": "markdown",
   "id": "2824f84d",
   "metadata": {
    "papermill": {
     "duration": 0.006582,
     "end_time": "2024-05-21T01:39:19.047019",
     "exception": false,
     "start_time": "2024-05-21T01:39:19.040437",
     "status": "completed"
    },
    "tags": []
   },
   "source": [
    "## checking by year"
   ]
  },
  {
   "cell_type": "code",
   "execution_count": 6,
   "id": "6a5ac995",
   "metadata": {
    "execution": {
     "iopub.execute_input": "2024-05-21T01:39:19.062247Z",
     "iopub.status.busy": "2024-05-21T01:39:19.061838Z",
     "iopub.status.idle": "2024-05-21T01:39:19.093989Z",
     "shell.execute_reply": "2024-05-21T01:39:19.092809Z"
    },
    "papermill": {
     "duration": 0.04327,
     "end_time": "2024-05-21T01:39:19.097085",
     "exception": false,
     "start_time": "2024-05-21T01:39:19.053815",
     "status": "completed"
    },
    "tags": []
   },
   "outputs": [
    {
     "data": {
      "text/html": [
       "<div>\n",
       "<style scoped>\n",
       "    .dataframe tbody tr th:only-of-type {\n",
       "        vertical-align: middle;\n",
       "    }\n",
       "\n",
       "    .dataframe tbody tr th {\n",
       "        vertical-align: top;\n",
       "    }\n",
       "\n",
       "    .dataframe thead th {\n",
       "        text-align: right;\n",
       "    }\n",
       "</style>\n",
       "<table border=\"1\" class=\"dataframe\">\n",
       "  <thead>\n",
       "    <tr style=\"text-align: right;\">\n",
       "      <th></th>\n",
       "      <th>year</th>\n",
       "      <th>duration_min</th>\n",
       "      <th>rating</th>\n",
       "      <th>metascore</th>\n",
       "    </tr>\n",
       "  </thead>\n",
       "  <tbody>\n",
       "    <tr>\n",
       "      <th>count</th>\n",
       "      <td>10000.000000</td>\n",
       "      <td>9664.000000</td>\n",
       "      <td>10000.000000</td>\n",
       "      <td>10000.00000</td>\n",
       "    </tr>\n",
       "    <tr>\n",
       "      <th>mean</th>\n",
       "      <td>1975.675000</td>\n",
       "      <td>108.809603</td>\n",
       "      <td>6.441090</td>\n",
       "      <td>58.05160</td>\n",
       "    </tr>\n",
       "    <tr>\n",
       "      <th>std</th>\n",
       "      <td>244.542327</td>\n",
       "      <td>23.159749</td>\n",
       "      <td>1.030024</td>\n",
       "      <td>15.51077</td>\n",
       "    </tr>\n",
       "    <tr>\n",
       "      <th>min</th>\n",
       "      <td>0.000000</td>\n",
       "      <td>45.000000</td>\n",
       "      <td>1.300000</td>\n",
       "      <td>1.00000</td>\n",
       "    </tr>\n",
       "    <tr>\n",
       "      <th>25%</th>\n",
       "      <td>1996.750000</td>\n",
       "      <td>95.000000</td>\n",
       "      <td>5.900000</td>\n",
       "      <td>50.00000</td>\n",
       "    </tr>\n",
       "    <tr>\n",
       "      <th>50%</th>\n",
       "      <td>2011.000000</td>\n",
       "      <td>105.000000</td>\n",
       "      <td>6.500000</td>\n",
       "      <td>58.00000</td>\n",
       "    </tr>\n",
       "    <tr>\n",
       "      <th>75%</th>\n",
       "      <td>2020.250000</td>\n",
       "      <td>118.000000</td>\n",
       "      <td>7.200000</td>\n",
       "      <td>67.00000</td>\n",
       "    </tr>\n",
       "    <tr>\n",
       "      <th>max</th>\n",
       "      <td>2025.000000</td>\n",
       "      <td>746.000000</td>\n",
       "      <td>9.700000</td>\n",
       "      <td>100.00000</td>\n",
       "    </tr>\n",
       "  </tbody>\n",
       "</table>\n",
       "</div>"
      ],
      "text/plain": [
       "               year  duration_min        rating    metascore\n",
       "count  10000.000000   9664.000000  10000.000000  10000.00000\n",
       "mean    1975.675000    108.809603      6.441090     58.05160\n",
       "std      244.542327     23.159749      1.030024     15.51077\n",
       "min        0.000000     45.000000      1.300000      1.00000\n",
       "25%     1996.750000     95.000000      5.900000     50.00000\n",
       "50%     2011.000000    105.000000      6.500000     58.00000\n",
       "75%     2020.250000    118.000000      7.200000     67.00000\n",
       "max     2025.000000    746.000000      9.700000    100.00000"
      ]
     },
     "execution_count": 6,
     "metadata": {},
     "output_type": "execute_result"
    }
   ],
   "source": [
    "df1 = df\n",
    "df1.loc[:, 'year'] = df1['year'].fillna(0)\n",
    "df1.loc[:, 'rating'] = df1['rating'].fillna(df1['rating'].median())\n",
    "df1.loc[:, 'metascore'] = df1['metascore'].fillna(df1['metascore'].median())\n",
    "df1.describe()"
   ]
  },
  {
   "cell_type": "code",
   "execution_count": 7,
   "id": "408f6e5d",
   "metadata": {
    "execution": {
     "iopub.execute_input": "2024-05-21T01:39:19.113294Z",
     "iopub.status.busy": "2024-05-21T01:39:19.112907Z",
     "iopub.status.idle": "2024-05-21T01:39:19.119488Z",
     "shell.execute_reply": "2024-05-21T01:39:19.118300Z"
    },
    "papermill": {
     "duration": 0.017498,
     "end_time": "2024-05-21T01:39:19.122022",
     "exception": false,
     "start_time": "2024-05-21T01:39:19.104524",
     "status": "completed"
    },
    "tags": []
   },
   "outputs": [],
   "source": [
    "df1['year']=df1['year'].astype(int)"
   ]
  },
  {
   "cell_type": "code",
   "execution_count": 8,
   "id": "bdc4a04d",
   "metadata": {
    "execution": {
     "iopub.execute_input": "2024-05-21T01:39:19.138909Z",
     "iopub.status.busy": "2024-05-21T01:39:19.138454Z",
     "iopub.status.idle": "2024-05-21T01:39:19.152774Z",
     "shell.execute_reply": "2024-05-21T01:39:19.151512Z"
    },
    "papermill": {
     "duration": 0.026417,
     "end_time": "2024-05-21T01:39:19.155714",
     "exception": false,
     "start_time": "2024-05-21T01:39:19.129297",
     "status": "completed"
    },
    "tags": []
   },
   "outputs": [],
   "source": [
    "mean_rating_yearly = df.groupby('year')['rating'].mean().sort_values(ascending=False).head(20)\n",
    "mean_metascore_yearly = df.groupby('year')['metascore'].mean().sort_values(ascending=False).head(20)\n",
    "mean_duration_yearly = df.groupby('year')['duration_min'].mean().sort_values(ascending=False).head(20)"
   ]
  },
  {
   "cell_type": "code",
   "execution_count": 9,
   "id": "15dd9e88",
   "metadata": {
    "execution": {
     "iopub.execute_input": "2024-05-21T01:39:19.171726Z",
     "iopub.status.busy": "2024-05-21T01:39:19.171324Z",
     "iopub.status.idle": "2024-05-21T01:39:20.238092Z",
     "shell.execute_reply": "2024-05-21T01:39:20.236578Z"
    },
    "papermill": {
     "duration": 1.077939,
     "end_time": "2024-05-21T01:39:20.240809",
     "exception": false,
     "start_time": "2024-05-21T01:39:19.162870",
     "status": "completed"
    },
    "tags": []
   },
   "outputs": [
    {
     "name": "stderr",
     "output_type": "stream",
     "text": [
      "/opt/conda/lib/python3.10/site-packages/seaborn/_oldcore.py:1119: FutureWarning: use_inf_as_na option is deprecated and will be removed in a future version. Convert inf values to NaN before operating instead.\n",
      "  with pd.option_context('mode.use_inf_as_na', True):\n",
      "/opt/conda/lib/python3.10/site-packages/seaborn/_oldcore.py:1119: FutureWarning: use_inf_as_na option is deprecated and will be removed in a future version. Convert inf values to NaN before operating instead.\n",
      "  with pd.option_context('mode.use_inf_as_na', True):\n",
      "/opt/conda/lib/python3.10/site-packages/seaborn/_oldcore.py:1119: FutureWarning: use_inf_as_na option is deprecated and will be removed in a future version. Convert inf values to NaN before operating instead.\n",
      "  with pd.option_context('mode.use_inf_as_na', True):\n",
      "/opt/conda/lib/python3.10/site-packages/seaborn/_oldcore.py:1119: FutureWarning: use_inf_as_na option is deprecated and will be removed in a future version. Convert inf values to NaN before operating instead.\n",
      "  with pd.option_context('mode.use_inf_as_na', True):\n",
      "/opt/conda/lib/python3.10/site-packages/seaborn/_oldcore.py:1119: FutureWarning: use_inf_as_na option is deprecated and will be removed in a future version. Convert inf values to NaN before operating instead.\n",
      "  with pd.option_context('mode.use_inf_as_na', True):\n",
      "/opt/conda/lib/python3.10/site-packages/seaborn/_oldcore.py:1119: FutureWarning: use_inf_as_na option is deprecated and will be removed in a future version. Convert inf values to NaN before operating instead.\n",
      "  with pd.option_context('mode.use_inf_as_na', True):\n"
     ]
    },
    {
     "data": {
      "image/png": "[encoded data removed]",
      "text/plain": [
       "<Figure size 1500x300 with 1 Axes>"
      ]
     },
     "metadata": {},
     "output_type": "display_data"
    },
    {
     "data": {
      "image/png": "[encoded data removed]",
      "text/plain": [
       "<Figure size 1500x300 with 1 Axes>"
      ]
     },
     "metadata": {},
     "output_type": "display_data"
    },
    {
     "data": {
      "image/png": "[encoded data removed]",
      "text/plain": [
       "<Figure size 1500x300 with 1 Axes>"
      ]
     },
     "metadata": {},
     "output_type": "display_data"
    }
   ],
   "source": [
    "plt.figure(figsize=(15,3))\n",
    "sns.set_style('whitegrid')\n",
    "sns.lineplot(mean_rating_yearly, x=mean_rating_yearly.index,\n",
    "             y=mean_rating_yearly.values)\n",
    "\n",
    "plt.figure(figsize=(15,3))\n",
    "sns.lineplot(mean_metascore_yearly, x=mean_metascore_yearly.index,\n",
    "             y=mean_metascore_yearly.values)\n",
    "\n",
    "plt.figure(figsize=(15,3))\n",
    "sns.lineplot(mean_duration_yearly, x=mean_duration_yearly.index,\n",
    "             y=mean_duration_yearly.values)\n",
    "\n",
    "plt.show()"
   ]
  },
  {
   "cell_type": "code",
   "execution_count": 10,
   "id": "681da6d1",
   "metadata": {
    "execution": {
     "iopub.execute_input": "2024-05-21T01:39:20.261872Z",
     "iopub.status.busy": "2024-05-21T01:39:20.261438Z",
     "iopub.status.idle": "2024-05-21T01:39:20.280836Z",
     "shell.execute_reply": "2024-05-21T01:39:20.279655Z"
    },
    "papermill": {
     "duration": 0.032457,
     "end_time": "2024-05-21T01:39:20.283361",
     "exception": false,
     "start_time": "2024-05-21T01:39:20.250904",
     "status": "completed"
    },
    "tags": []
   },
   "outputs": [
    {
     "data": {
      "text/html": [
       "<div>\n",
       "<style scoped>\n",
       "    .dataframe tbody tr th:only-of-type {\n",
       "        vertical-align: middle;\n",
       "    }\n",
       "\n",
       "    .dataframe tbody tr th {\n",
       "        vertical-align: top;\n",
       "    }\n",
       "\n",
       "    .dataframe thead th {\n",
       "        text-align: right;\n",
       "    }\n",
       "</style>\n",
       "<table border=\"1\" class=\"dataframe\">\n",
       "  <thead>\n",
       "    <tr style=\"text-align: right;\">\n",
       "      <th></th>\n",
       "      <th>year</th>\n",
       "      <th>0</th>\n",
       "      <th>1</th>\n",
       "      <th>2</th>\n",
       "    </tr>\n",
       "  </thead>\n",
       "  <tbody>\n",
       "    <tr>\n",
       "      <th>0</th>\n",
       "      <td>1990</td>\n",
       "      <td>7.224</td>\n",
       "      <td>66.60</td>\n",
       "      <td>132.320000</td>\n",
       "    </tr>\n",
       "    <tr>\n",
       "      <th>1</th>\n",
       "      <td>1991</td>\n",
       "      <td>6.994</td>\n",
       "      <td>62.60</td>\n",
       "      <td>121.282609</td>\n",
       "    </tr>\n",
       "    <tr>\n",
       "      <th>2</th>\n",
       "      <td>1972</td>\n",
       "      <td>6.964</td>\n",
       "      <td>61.38</td>\n",
       "      <td>115.916667</td>\n",
       "    </tr>\n",
       "    <tr>\n",
       "      <th>3</th>\n",
       "      <td>1979</td>\n",
       "      <td>6.824</td>\n",
       "      <td>61.24</td>\n",
       "      <td>112.489796</td>\n",
       "    </tr>\n",
       "    <tr>\n",
       "      <th>4</th>\n",
       "      <td>1964</td>\n",
       "      <td>6.796</td>\n",
       "      <td>59.68</td>\n",
       "      <td>117.142857</td>\n",
       "    </tr>\n",
       "  </tbody>\n",
       "</table>\n",
       "</div>"
      ],
      "text/plain": [
       "   year      0      1           2\n",
       "0  1990  7.224  66.60  132.320000\n",
       "1  1991  6.994  62.60  121.282609\n",
       "2  1972  6.964  61.38  115.916667\n",
       "3  1979  6.824  61.24  112.489796\n",
       "4  1964  6.796  59.68  117.142857"
      ]
     },
     "execution_count": 10,
     "metadata": {},
     "output_type": "execute_result"
    }
   ],
   "source": [
    "df_mean=pd.concat([mean_rating_yearly,mean_metascore_yearly,mean_duration_yearly],\n",
    "         axis=1, ignore_index=True).reset_index()\n",
    "df_mean.head()"
   ]
  },
  {
   "cell_type": "code",
   "execution_count": 11,
   "id": "c24d8b74",
   "metadata": {
    "execution": {
     "iopub.execute_input": "2024-05-21T01:39:20.303882Z",
     "iopub.status.busy": "2024-05-21T01:39:20.303440Z",
     "iopub.status.idle": "2024-05-21T01:39:20.318253Z",
     "shell.execute_reply": "2024-05-21T01:39:20.317078Z"
    },
    "papermill": {
     "duration": 0.028155,
     "end_time": "2024-05-21T01:39:20.320933",
     "exception": false,
     "start_time": "2024-05-21T01:39:20.292778",
     "status": "completed"
    },
    "tags": []
   },
   "outputs": [
    {
     "data": {
      "text/html": [
       "<div>\n",
       "<style scoped>\n",
       "    .dataframe tbody tr th:only-of-type {\n",
       "        vertical-align: middle;\n",
       "    }\n",
       "\n",
       "    .dataframe tbody tr th {\n",
       "        vertical-align: top;\n",
       "    }\n",
       "\n",
       "    .dataframe thead th {\n",
       "        text-align: right;\n",
       "    }\n",
       "</style>\n",
       "<table border=\"1\" class=\"dataframe\">\n",
       "  <thead>\n",
       "    <tr style=\"text-align: right;\">\n",
       "      <th></th>\n",
       "      <th>year</th>\n",
       "      <th>mean_rating_yearly</th>\n",
       "      <th>mean_metascore_yearly</th>\n",
       "      <th>mean_duration_yearly</th>\n",
       "    </tr>\n",
       "  </thead>\n",
       "  <tbody>\n",
       "    <tr>\n",
       "      <th>0</th>\n",
       "      <td>1990</td>\n",
       "      <td>7.224</td>\n",
       "      <td>66.60</td>\n",
       "      <td>132.320000</td>\n",
       "    </tr>\n",
       "    <tr>\n",
       "      <th>1</th>\n",
       "      <td>1991</td>\n",
       "      <td>6.994</td>\n",
       "      <td>62.60</td>\n",
       "      <td>121.282609</td>\n",
       "    </tr>\n",
       "    <tr>\n",
       "      <th>2</th>\n",
       "      <td>1972</td>\n",
       "      <td>6.964</td>\n",
       "      <td>61.38</td>\n",
       "      <td>115.916667</td>\n",
       "    </tr>\n",
       "    <tr>\n",
       "      <th>3</th>\n",
       "      <td>1979</td>\n",
       "      <td>6.824</td>\n",
       "      <td>61.24</td>\n",
       "      <td>112.489796</td>\n",
       "    </tr>\n",
       "    <tr>\n",
       "      <th>4</th>\n",
       "      <td>1964</td>\n",
       "      <td>6.796</td>\n",
       "      <td>59.68</td>\n",
       "      <td>117.142857</td>\n",
       "    </tr>\n",
       "  </tbody>\n",
       "</table>\n",
       "</div>"
      ],
      "text/plain": [
       "   year  mean_rating_yearly  mean_metascore_yearly  mean_duration_yearly\n",
       "0  1990               7.224                  66.60            132.320000\n",
       "1  1991               6.994                  62.60            121.282609\n",
       "2  1972               6.964                  61.38            115.916667\n",
       "3  1979               6.824                  61.24            112.489796\n",
       "4  1964               6.796                  59.68            117.142857"
      ]
     },
     "execution_count": 11,
     "metadata": {},
     "output_type": "execute_result"
    }
   ],
   "source": [
    "df_mean.columns = ['year','mean_rating_yearly','mean_metascore_yearly','mean_duration_yearly']\n",
    "df_mean.head()"
   ]
  },
  {
   "cell_type": "code",
   "execution_count": 12,
   "id": "9ca60ba7",
   "metadata": {
    "execution": {
     "iopub.execute_input": "2024-05-21T01:39:20.342272Z",
     "iopub.status.busy": "2024-05-21T01:39:20.341818Z",
     "iopub.status.idle": "2024-05-21T01:39:20.348327Z",
     "shell.execute_reply": "2024-05-21T01:39:20.346887Z"
    },
    "papermill": {
     "duration": 0.020418,
     "end_time": "2024-05-21T01:39:20.351154",
     "exception": false,
     "start_time": "2024-05-21T01:39:20.330736",
     "status": "completed"
    },
    "tags": []
   },
   "outputs": [],
   "source": [
    "corr = df_mean.corr()"
   ]
  },
  {
   "cell_type": "code",
   "execution_count": 13,
   "id": "3988b0e1",
   "metadata": {
    "execution": {
     "iopub.execute_input": "2024-05-21T01:39:20.371997Z",
     "iopub.status.busy": "2024-05-21T01:39:20.371476Z",
     "iopub.status.idle": "2024-05-21T01:39:20.802811Z",
     "shell.execute_reply": "2024-05-21T01:39:20.801439Z"
    },
    "papermill": {
     "duration": 0.44533,
     "end_time": "2024-05-21T01:39:20.806124",
     "exception": false,
     "start_time": "2024-05-21T01:39:20.360794",
     "status": "completed"
    },
    "tags": []
   },
   "outputs": [
    {
     "data": {
      "image/png": "[encoded data removed]",
      "text/plain": [
       "<Figure size 640x480 with 2 Axes>"
      ]
     },
     "metadata": {},
     "output_type": "display_data"
    }
   ],
   "source": [
    "sns.heatmap(corr, annot=True,fmt='.2f' )\n",
    "plt.xticks(rotation=45)\n",
    "plt.show()"
   ]
  },
  {
   "cell_type": "code",
   "execution_count": null,
   "id": "f2d57a56",
   "metadata": {
    "papermill": {
     "duration": 0.010377,
     "end_time": "2024-05-21T01:39:20.828444",
     "exception": false,
     "start_time": "2024-05-21T01:39:20.818067",
     "status": "completed"
    },
    "tags": []
   },
   "outputs": [],
   "source": []
  }
 ],
 "metadata": {
  "kaggle": {
   "accelerator": "none",
   "dataSources": [
    {
     "datasetId": 5018668,
     "sourceId": 8433891,
     "sourceType": "datasetVersion"
    }
   ],
   "dockerImageVersionId": 30698,
   "isGpuEnabled": false,
   "isInternetEnabled": true,
   "language": "python",
   "sourceType": "notebook"
  },
  "kernelspec": {
   "display_name": "Python 3",
   "language": "python",
   "name": "python3"
  },
  "language_info": {
   "codemirror_mode": {
    "name": "ipython",
    "version": 3
   },
   "file_extension": ".py",
   "mimetype": "text/x-python",
   "name": "python",
   "nbconvert_exporter": "python",
   "pygments_lexer": "ipython3",
   "version": "3.10.13"
  },
  "papermill": {
   "default_parameters": {},
   "duration": 9.00536,
   "end_time": "2024-05-21T01:39:21.561426",
   "environment_variables": {},
   "exception": null,
   "input_path": "__notebook__.ipynb",
   "output_path": "__notebook__.ipynb",
   "parameters": {},
   "start_time": "2024-05-21T01:39:12.556066",
   "version": "2.5.0"
  }
 },
 "nbformat": 4,
 "nbformat_minor": 5
}
